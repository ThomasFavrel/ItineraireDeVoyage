{
 "cells": [
  {
   "cell_type": "markdown",
   "id": "9427ee4e",
   "metadata": {},
   "source": [
    "# ITINERAIRE DE VACANCE - EXPLORATION DES DONNÉES"
   ]
  },
  {
   "cell_type": "markdown",
   "id": "9478e93a",
   "metadata": {},
   "source": [
    "## 0. Import des modules"
   ]
  },
  {
   "cell_type": "code",
   "execution_count": 1,
   "id": "5f9c1cfa",
   "metadata": {},
   "outputs": [],
   "source": [
    "import pandas as pd\n",
    "import json\n",
    "from pprint import pprint\n",
    "import operator as op"
   ]
  },
  {
   "cell_type": "markdown",
   "id": "8fc631a4",
   "metadata": {},
   "source": [
    "## 1. Import des données\n",
    "### 1.1 JSON\n",
    "#### 1.1.1 Index"
   ]
  },
  {
   "cell_type": "code",
   "execution_count": 2,
   "id": "46fd78c6",
   "metadata": {},
   "outputs": [],
   "source": [
    "objects_path = '../Data/JSON/objects/'"
   ]
  },
  {
   "cell_type": "code",
   "execution_count": 3,
   "id": "175e40e8",
   "metadata": {},
   "outputs": [],
   "source": [
    "index_path = '../Data/JSON/index.json'"
   ]
  },
  {
   "cell_type": "code",
   "execution_count": 4,
   "id": "0053c8d7",
   "metadata": {},
   "outputs": [],
   "source": [
    "with open(index_path) as json_data:\n",
    "    index = json.load(json_data)"
   ]
  },
  {
   "cell_type": "markdown",
   "id": "65b47acb",
   "metadata": {},
   "source": [
    "L'index contient plusieurs informations:\n",
    "* `file`: chemin d'accès vers les objets json\n",
    "* `label`: nom du Point Of Interrest\n",
    "* `lastUpdateDatatourisme`: dernière mise à jour du POI sur Datatourisme"
   ]
  },
  {
   "cell_type": "code",
   "execution_count": 5,
   "id": "aa6dba5c",
   "metadata": {},
   "outputs": [
    {
     "name": "stdout",
     "output_type": "stream",
     "text": [
      "[{'file': '0/00/13-000fac17-cff9-3918-a3d6-8edc919c8533.json',\n",
      "  'label': 'Calvi Jet Locations',\n",
      "  'lastUpdateDatatourisme': '2023-02-22T06:42:37.696Z'},\n",
      " {'file': '0/01/13-016f3145-67f8-33c3-9293-109b420a9104.json',\n",
      "  'label': 'Promenades du Golfe',\n",
      "  'lastUpdateDatatourisme': '2023-04-02T05:48:09.233Z'}]\n"
     ]
    }
   ],
   "source": [
    "pprint(index[:2])"
   ]
  },
  {
   "cell_type": "markdown",
   "id": "fe88d4f1",
   "metadata": {},
   "source": [
    "#### 1.1.2 Exploration d'un objet json"
   ]
  },
  {
   "cell_type": "code",
   "execution_count": 6,
   "id": "b8765dfb",
   "metadata": {},
   "outputs": [],
   "source": [
    "jsonObject_path = objects_path + index[0]['file']"
   ]
  },
  {
   "cell_type": "code",
   "execution_count": 7,
   "id": "efa4c0ec",
   "metadata": {},
   "outputs": [],
   "source": [
    "with open(jsonObject_path) as json_data:\n",
    "    jsonObject = json.load(json_data)"
   ]
  },
  {
   "cell_type": "markdown",
   "id": "0baf49b6",
   "metadata": {},
   "source": [
    "Nous avons 15 clés dans notre objet json:\n",
    "* **`@id`: Lien vers le POI.**\n",
    "* `dc:identifier`: Identifiant unique\n",
    "* **`@type`: La classification de POI. Par exemple : festival, musée, chambre d’hôtes...**\n",
    "* `rdfs:comment`: Commentaire du POI\n",
    "* **`rdfs:label`: Nom du Point Of Interrest**\n",
    "* `hasBeenCreatedBy`: L'agent qui a créé ce POI dans le système d'information :\n",
    "    * `@id`: Lien vers l'agent sur DATAtourisme\n",
    "    * `dc:identifier`: Identifiant unique\n",
    "    * `schema:email`: E-mail de l'agent\n",
    "    * `schema:legalName`: Nom officiel de l'agent\n",
    "    * `@type`: Type de l'agent\n",
    "    * `foaf:homepage`: Lien vers le site de l'agent\n",
    "* `hasBeenPublishedBy`: L'agent qui a publié ce POI dans le système d'information:\n",
    "    * `@id`: Lien vers l'agent sur DATAtourisme\n",
    "    * `schema:legalName`: Nom officiel de l'agent\n",
    "    * `@type`: Type de l'agent\n",
    "    * `foaf:homepage`: Lien vers le site de l'agent\n",
    "* **`hasContact`: L'agent à contacter pour affaires générales relatives à ce POI:**\n",
    "    * `@id`: Lien vers l'agent sur DATAtourisme\n",
    "    * `schema:email`: E-mail de l'agent\n",
    "    * **`schema:telephone`: Telephone de l'agent**\n",
    "    * `@type`: Type de l'agent\n",
    "    * **`foaf:homepage`: Lien vers le site de l'agent**\n",
    "* **`hasDescription`: Description textuelle courte ou longue du POI pouvant être associée à une audience. Par exemple, un POI peut avoir une description dédiée aux écoles et une autre dédiée au grand public. Si une description n'a aucune audience renseignée, on suppose qu'elle est dédiée à tous les publics:**\n",
    "    * `@id`: Lien vers la description\n",
    "    * `@type`: Type(s) de la descripton\n",
    "    * `hasTranslatedProperty`: Informations de traductions:\n",
    "        * `@id`: Lien vers les informations de la traduction de la description\n",
    "        * `dc:contributor`: Traducteur (api.deepl.com/v2/translate)\n",
    "        * `rdf:language`: Langue de la traduction\n",
    "        * `rdf:predicate`: Type de la description\n",
    "    * **`shortDescription`: Dictionnaire des descriptions traduit en plusieurs langues:**\n",
    "        * `fr`: En fr\n",
    "        * `de`: ...\n",
    "* **`hasTheme`: Liste des thèmes:**\n",
    "    * `@id`: Identifiant du thème au format kb:[theme en anglais sans espace]\n",
    "    * `@type`: Type du thème\n",
    "    * `rdfs:label`: Thème en différente langue:\n",
    "        * `fr`: fr\n",
    "        * `de`: ...\n",
    "* `hasTranslatedProperty`: liste d'informations de traductions sur le commentaire:\n",
    "    * `@id`: Lien vers les informations de la traduction du commentaire\n",
    "    * `dc:contributor`: Traducteur (api.deepl.com/v2/translate)\n",
    "    * `rdf:language`: Langue de la traduction\n",
    "    * `rdf:predicate`: Table de jointure entre @id et comment\n",
    "* `isLocatedAt`: Informations sur l'emplacement géographique du POI:\n",
    "    * `@id`: Lien vers les informations sur l'emplacement\n",
    "    * `schema:address`: Informations sur l'adresse postale\n",
    "        * `@id`: Lien vers les informations de l'adresse postale\n",
    "        * **`schema:addressLocality`: Ville**\n",
    "        * **`schema:postalCode`: Code postale**\n",
    "        * **`schema:streetAddress`: Adresse postale (certaines données ne sont pas propres)**\n",
    "        * `@type`: Type de l'adresse\n",
    "        * `hasAddressCity`: Informations complémentaires sur l'adresse postale\n",
    "            * `@id`: Identifiant\n",
    "            * `@type`: Type de localisation (ex: City)\n",
    "            * **`rdfs:label`: Liste de la ville traduite ['fr']**\n",
    "            * `insee`: Code Insee\n",
    "            * `isPartOfDepartment`: Informations du département\n",
    "                * `@id`: Identifiant\n",
    "                * `@type`: Type de localisation (ex: Department)\n",
    "                * **`rdfs:label`: Liste de la ville traduite ['fr']**\n",
    "                * `insee`: Code Insee\n",
    "                * `isPartOfRegion`: Informations du département:\n",
    "                    * `@id`: Identifiant\n",
    "                    * `@type`: Type de localisation (ex: Region)\n",
    "                    * **`rdfs:label`: Liste de la ville traduite ['fr']**\n",
    "                    * `insee`: Code Insee\n",
    "                    * `isPartOfCountry`: Informations du Pays:\n",
    "                        * `@id`: Identifiant\n",
    "                        * `@type`: Type de localisation (ex: Country)\n",
    "                        * **`rdfs:label`: Liste de la ville traduite ['fr']**\n",
    "    * `schema:geo`:\n",
    "        * `@id`: Lien vers les informations coordonnées gépgraphiques\n",
    "        * **`schema:latitude`: Latitude**\n",
    "        * **`schema:longitude`: Longitude**\n",
    "        * `@type`: Type\n",
    "    * `schema:openingHoursSpecification`: Informations des horraires d'ouverture et fermeture \n",
    "        * `@id`: Lien vers les informations des horraires\n",
    "        * **`schema:closes`: Heure de fermeture**\n",
    "        * **`schema:opens`: Heure d'ouverture**\n",
    "        * **`schema:validFrom`: Date de début de période d'ouverture**\n",
    "        * **`schema:validThrough`: Date de fin de période d'ouverture**\n",
    "        * `@type`: Type\n",
    "        * `additionalInformation`: Liste d'inforamtions supplémentaires traduit en plusieurs langues\n",
    "        * `hasTranslatedProperty`: Liste des informations de traduction des infos supplémentaires\n",
    "            * `@id`: Lien vers les infos de trad\n",
    "            * `dc:contributor`: Traducteur (api.deepl.com/v2/translate)\n",
    "            * `rdf:language`: Langue de la traduction\n",
    "            * `rdf:predicate`: Table de jointure entre @id et additionalInformation\n",
    "    * `@type`: Type de place\n",
    "* `isOwnedBy`: Informations de l'agent propriétaire\n",
    "    * `@id`: Lien vers l'agent sur DATAtourisme\n",
    "    * `schema:email`: E-mail de l'agent\n",
    "    * `schema:legalName`: Nom de l'agent\n",
    "    * `@type`: Type de l'agent\n",
    "    * `foaf:homepage`: Lien vers le site de l'agent    \n",
    "* **`lastUpdate`: Dernière mise à jour du POI**\n",
    "* `lastUpdateDatatourisme`: Dernière mise à jour du POI sur DATAtourisme"
   ]
  },
  {
   "cell_type": "markdown",
   "id": "18695478",
   "metadata": {},
   "source": [
    "Ce json peut être transformé en JSON-LD grâce au @"
   ]
  },
  {
   "cell_type": "code",
   "execution_count": 8,
   "id": "a6c2148d",
   "metadata": {},
   "outputs": [],
   "source": [
    "# pprint(jsonObject)"
   ]
  },
  {
   "cell_type": "markdown",
   "id": "c1832304",
   "metadata": {},
   "source": [
    "### 1.2 CSV"
   ]
  },
  {
   "cell_type": "code",
   "execution_count": 9,
   "id": "3a83bbab",
   "metadata": {},
   "outputs": [],
   "source": [
    "csv_path = '../Data/datatourisme-reg-cor-20230406.csv'"
   ]
  },
  {
   "cell_type": "code",
   "execution_count": 10,
   "id": "2c0ff65b",
   "metadata": {},
   "outputs": [],
   "source": [
    "df_csv = pd.read_csv(csv_path)"
   ]
  },
  {
   "cell_type": "code",
   "execution_count": 11,
   "id": "d4af2ae3",
   "metadata": {},
   "outputs": [
    {
     "data": {
      "text/html": [
       "<div>\n",
       "<style scoped>\n",
       "    .dataframe tbody tr th:only-of-type {\n",
       "        vertical-align: middle;\n",
       "    }\n",
       "\n",
       "    .dataframe tbody tr th {\n",
       "        vertical-align: top;\n",
       "    }\n",
       "\n",
       "    .dataframe thead th {\n",
       "        text-align: right;\n",
       "    }\n",
       "</style>\n",
       "<table border=\"1\" class=\"dataframe\">\n",
       "  <thead>\n",
       "    <tr style=\"text-align: right;\">\n",
       "      <th></th>\n",
       "      <th>Nom_du_POI</th>\n",
       "      <th>Categories_de_POI</th>\n",
       "      <th>Latitude</th>\n",
       "      <th>Longitude</th>\n",
       "      <th>Adresse_postale</th>\n",
       "      <th>Code_postal_et_commune</th>\n",
       "      <th>Periodes_regroupees</th>\n",
       "      <th>Covid19_mesures_specifiques</th>\n",
       "      <th>Covid19_est_en_activite</th>\n",
       "      <th>Covid19_periodes_d_ouvertures_confirmees</th>\n",
       "      <th>Createur_de_la_donnee</th>\n",
       "      <th>SIT_diffuseur</th>\n",
       "      <th>Date_de_mise_a_jour</th>\n",
       "      <th>Contacts_du_POI</th>\n",
       "      <th>Classements_du_POI</th>\n",
       "      <th>Description</th>\n",
       "      <th>URI_ID_du_POI</th>\n",
       "    </tr>\n",
       "  </thead>\n",
       "  <tbody>\n",
       "    <tr>\n",
       "      <th>0</th>\n",
       "      <td>Cala Rossa Bay Resort</td>\n",
       "      <td>https://www.datatourisme.fr/ontology/core#Plac...</td>\n",
       "      <td>41.628354</td>\n",
       "      <td>9.334957</td>\n",
       "      <td>Route de Cala Rossa</td>\n",
       "      <td>20137#Lecci</td>\n",
       "      <td>NaN</td>\n",
       "      <td>NaN</td>\n",
       "      <td>NaN</td>\n",
       "      <td>NaN</td>\n",
       "      <td>Porto Vecchio Tourisme</td>\n",
       "      <td>Apidae Tourisme Scic SA - source : Apidae Tour...</td>\n",
       "      <td>2022-11-07</td>\n",
       "      <td>#+33 7 87 19 07 56#calabayresort@gmail.com#htt...</td>\n",
       "      <td>NaN</td>\n",
       "      <td>Cala Rossa Bay Resort est la promesse d'une ex...</td>\n",
       "      <td>https://data.datatourisme.fr/13/c45810c5-8c12-...</td>\n",
       "    </tr>\n",
       "    <tr>\n",
       "      <th>1</th>\n",
       "      <td>U Mulinacciu</td>\n",
       "      <td>https://www.datatourisme.fr/ontology/core#Plac...</td>\n",
       "      <td>41.673547</td>\n",
       "      <td>9.299361</td>\n",
       "      <td>Camping Mulinacciu</td>\n",
       "      <td>20137#Lecci</td>\n",
       "      <td>NaN</td>\n",
       "      <td>NaN</td>\n",
       "      <td>NaN</td>\n",
       "      <td>NaN</td>\n",
       "      <td>Porto Vecchio Tourisme</td>\n",
       "      <td>Apidae Tourisme Scic SA - source : Apidae Tour...</td>\n",
       "      <td>2023-02-21</td>\n",
       "      <td>#+33 4 95 71 47 48#infos@mulinacciu.com#https:...</td>\n",
       "      <td>NaN</td>\n",
       "      <td>Camping entre mer et montagne à 7 kms de Porto...</td>\n",
       "      <td>https://data.datatourisme.fr/13/b26b3595-d776-...</td>\n",
       "    </tr>\n",
       "  </tbody>\n",
       "</table>\n",
       "</div>"
      ],
      "text/plain": [
       "              Nom_du_POI                                  Categories_de_POI   \n",
       "0  Cala Rossa Bay Resort  https://www.datatourisme.fr/ontology/core#Plac...  \\\n",
       "1           U Mulinacciu  https://www.datatourisme.fr/ontology/core#Plac...   \n",
       "\n",
       "    Latitude  Longitude      Adresse_postale Code_postal_et_commune   \n",
       "0  41.628354   9.334957  Route de Cala Rossa            20137#Lecci  \\\n",
       "1  41.673547   9.299361   Camping Mulinacciu            20137#Lecci   \n",
       "\n",
       "  Periodes_regroupees  Covid19_mesures_specifiques  Covid19_est_en_activite   \n",
       "0                 NaN                          NaN                      NaN  \\\n",
       "1                 NaN                          NaN                      NaN   \n",
       "\n",
       "   Covid19_periodes_d_ouvertures_confirmees   Createur_de_la_donnee   \n",
       "0                                       NaN  Porto Vecchio Tourisme  \\\n",
       "1                                       NaN  Porto Vecchio Tourisme   \n",
       "\n",
       "                                       SIT_diffuseur Date_de_mise_a_jour   \n",
       "0  Apidae Tourisme Scic SA - source : Apidae Tour...          2022-11-07  \\\n",
       "1  Apidae Tourisme Scic SA - source : Apidae Tour...          2023-02-21   \n",
       "\n",
       "                                     Contacts_du_POI  Classements_du_POI   \n",
       "0  #+33 7 87 19 07 56#calabayresort@gmail.com#htt...                 NaN  \\\n",
       "1  #+33 4 95 71 47 48#infos@mulinacciu.com#https:...                 NaN   \n",
       "\n",
       "                                         Description   \n",
       "0  Cala Rossa Bay Resort est la promesse d'une ex...  \\\n",
       "1  Camping entre mer et montagne à 7 kms de Porto...   \n",
       "\n",
       "                                       URI_ID_du_POI  \n",
       "0  https://data.datatourisme.fr/13/c45810c5-8c12-...  \n",
       "1  https://data.datatourisme.fr/13/b26b3595-d776-...  "
      ]
     },
     "execution_count": 11,
     "metadata": {},
     "output_type": "execute_result"
    }
   ],
   "source": [
    "df_csv.head(2)"
   ]
  },
  {
   "cell_type": "code",
   "execution_count": 12,
   "id": "341193c0",
   "metadata": {},
   "outputs": [
    {
     "data": {
      "text/plain": [
       "'Apidae Tourisme Scic SA - source : Apidae Tourisme'"
      ]
     },
     "execution_count": 12,
     "metadata": {},
     "output_type": "execute_result"
    }
   ],
   "source": [
    "df_csv['SIT_diffuseur'][0]"
   ]
  },
  {
   "cell_type": "markdown",
   "id": "b820ee4a",
   "metadata": {},
   "source": [
    "## 2. Préparation des données"
   ]
  },
  {
   "cell_type": "code",
   "execution_count": 13,
   "id": "42f230c5",
   "metadata": {},
   "outputs": [],
   "source": [
    "listOfPathJson = []\n",
    "for obj in index:\n",
    "    listOfPathJson.append(objects_path + obj['file'])"
   ]
  },
  {
   "cell_type": "code",
   "execution_count": 14,
   "id": "f691f4ef",
   "metadata": {},
   "outputs": [
    {
     "data": {
      "text/plain": [
       "623"
      ]
     },
     "execution_count": 14,
     "metadata": {},
     "output_type": "execute_result"
    }
   ],
   "source": [
    "listOfJson = []\n",
    "for json_path in listOfPathJson:\n",
    "    with open(json_path) as json_data:\n",
    "        jsonObject = json.load(json_data)\n",
    "        listOfJson.append(jsonObject)\n",
    "\n",
    "len(listOfJson)"
   ]
  },
  {
   "cell_type": "code",
   "execution_count": 15,
   "id": "e5b23d9f",
   "metadata": {},
   "outputs": [
    {
     "ename": "SyntaxError",
     "evalue": "invalid syntax (473027124.py, line 6)",
     "output_type": "error",
     "traceback": [
      "\u001b[0;36m  Cell \u001b[0;32mIn[15], line 6\u001b[0;36m\u001b[0m\n\u001b[0;31m    }\u001b[0m\n\u001b[0m    ^\u001b[0m\n\u001b[0;31mSyntaxError\u001b[0m\u001b[0;31m:\u001b[0m invalid syntax\n"
     ]
    }
   ],
   "source": [
    "data_dict = {\n",
    "    \"id\": [x['@id'] for x in listOfJson],\n",
    "    \"liste_types\": [x['@type'] for x in listOfJson], # A reprocesser car c'est une liste, et qui contient des valeurs inutiles\n",
    "    \"nom\": [x['rdfs:label']['fr'][0] for x in listOfJson], # Peut potentiellement être traduit\n",
    "    \"telephone\": \n",
    "}"
   ]
  },
  {
   "cell_type": "code",
   "execution_count": 16,
   "id": "5f9a5bdc",
   "metadata": {},
   "outputs": [
    {
     "data": {
      "text/plain": [
       "{'@id': 'https://data.datatourisme.fr/cd74fc03-c0e8-31d9-90c3-f5a1e1bdf423',\n",
       " 'schema:email': ['infos@colombo-line.com'],\n",
       " 'schema:telephone': ['+33 6 22 96 88 70', '+33 6 78 24 63 20'],\n",
       " '@type': ['foaf:Agent', 'Agent'],\n",
       " 'foaf:homepage': ['https://colomboline.resamare.com/',\n",
       "  'https://www.colombo-line.com/']}"
      ]
     },
     "execution_count": 16,
     "metadata": {},
     "output_type": "execute_result"
    }
   ],
   "source": [
    "jsonObject['hasContact'][0]"
   ]
  },
  {
   "cell_type": "code",
   "execution_count": 17,
   "id": "1e2d0ff5",
   "metadata": {},
   "outputs": [
    {
     "ename": "KeyError",
     "evalue": "'hasContact'",
     "output_type": "error",
     "traceback": [
      "\u001b[0;31m---------------------------------------------------------------------------\u001b[0m",
      "\u001b[0;31mKeyError\u001b[0m                                  Traceback (most recent call last)",
      "Cell \u001b[0;32mIn[17], line 1\u001b[0m\n\u001b[0;32m----> 1\u001b[0m [x[\u001b[38;5;124m'\u001b[39m\u001b[38;5;124mhasContact\u001b[39m\u001b[38;5;124m'\u001b[39m] \u001b[38;5;28;01mfor\u001b[39;00m x \u001b[38;5;129;01min\u001b[39;00m listOfJson]\n",
      "Cell \u001b[0;32mIn[17], line 1\u001b[0m, in \u001b[0;36m<listcomp>\u001b[0;34m(.0)\u001b[0m\n\u001b[0;32m----> 1\u001b[0m [\u001b[43mx\u001b[49m\u001b[43m[\u001b[49m\u001b[38;5;124;43m'\u001b[39;49m\u001b[38;5;124;43mhasContact\u001b[39;49m\u001b[38;5;124;43m'\u001b[39;49m\u001b[43m]\u001b[49m \u001b[38;5;28;01mfor\u001b[39;00m x \u001b[38;5;129;01min\u001b[39;00m listOfJson]\n",
      "\u001b[0;31mKeyError\u001b[0m: 'hasContact'"
     ]
    }
   ],
   "source": [
    "[x['hasContact'] for x in listOfJson]"
   ]
  },
  {
   "cell_type": "code",
   "execution_count": 23,
   "id": "6006216d",
   "metadata": {},
   "outputs": [],
   "source": [
    "d = {'hasContact': []}\n",
    "for obj in listOfJson:\n",
    "    try:\n",
    "        d['hasContact'].append(obj['hasContact'])\n",
    "    except:\n",
    "        d['hasContact'].append(None)"
   ]
  },
  {
   "cell_type": "code",
   "execution_count": 24,
   "id": "1b08db0a",
   "metadata": {},
   "outputs": [
    {
     "ename": "AttributeError",
     "evalue": "'list' object has no attribute 'countof'",
     "output_type": "error",
     "traceback": [
      "\u001b[0;31m---------------------------------------------------------------------------\u001b[0m",
      "\u001b[0;31mAttributeError\u001b[0m                            Traceback (most recent call last)",
      "Cell \u001b[0;32mIn[24], line 1\u001b[0m\n\u001b[0;32m----> 1\u001b[0m \u001b[43md\u001b[49m\u001b[43m[\u001b[49m\u001b[38;5;124;43m'\u001b[39;49m\u001b[38;5;124;43mhasContact\u001b[39;49m\u001b[38;5;124;43m'\u001b[39;49m\u001b[43m]\u001b[49m\u001b[38;5;241;43m.\u001b[39;49m\u001b[43mcountof\u001b[49m(\u001b[38;5;28;01mNone\u001b[39;00m)\n",
      "\u001b[0;31mAttributeError\u001b[0m: 'list' object has no attribute 'countof'"
     ]
    }
   ],
   "source": [
    "d['hasContact'].countof(None)"
   ]
  },
  {
   "cell_type": "code",
   "execution_count": 25,
   "id": "e2daf7fa",
   "metadata": {},
   "outputs": [],
   "source": [
    "d['hasContact'][49]"
   ]
  },
  {
   "cell_type": "code",
   "execution_count": 26,
   "id": "d84202e6",
   "metadata": {},
   "outputs": [
    {
     "data": {
      "text/plain": [
       "9"
      ]
     },
     "execution_count": 26,
     "metadata": {},
     "output_type": "execute_result"
    }
   ],
   "source": [
    "import operator as op\n",
    "\n",
    "op.countOf(d['hasContact'], None)"
   ]
  },
  {
   "cell_type": "code",
   "execution_count": 27,
   "id": "0ccd4ecf",
   "metadata": {},
   "outputs": [],
   "source": [
    "l = []\n",
    "for obj in listOfJson:\n",
    "    l.append(list(obj.keys()))"
   ]
  },
  {
   "cell_type": "code",
   "execution_count": 28,
   "id": "85e6d150",
   "metadata": {},
   "outputs": [
    {
     "data": {
      "text/plain": [
       "15"
      ]
     },
     "execution_count": 28,
     "metadata": {},
     "output_type": "execute_result"
    }
   ],
   "source": [
    "len(l[0])"
   ]
  },
  {
   "cell_type": "code",
   "execution_count": 29,
   "id": "cb4c7e77",
   "metadata": {},
   "outputs": [
    {
     "data": {
      "text/plain": [
       "18"
      ]
     },
     "execution_count": 29,
     "metadata": {},
     "output_type": "execute_result"
    }
   ],
   "source": [
    "max([len(x) for x in l])"
   ]
  },
  {
   "cell_type": "code",
   "execution_count": 30,
   "id": "d17943cf",
   "metadata": {},
   "outputs": [
    {
     "data": {
      "text/plain": [
       "280"
      ]
     },
     "execution_count": 30,
     "metadata": {},
     "output_type": "execute_result"
    }
   ],
   "source": [
    "[len(x) for x in l].index(18)"
   ]
  },
  {
   "cell_type": "code",
   "execution_count": 31,
   "id": "b20df41c",
   "metadata": {},
   "outputs": [
    {
     "data": {
      "text/plain": [
       "{'offers', 'schema:endDate', 'schema:startDate', 'takesPlaceAt'}"
      ]
     },
     "execution_count": 31,
     "metadata": {},
     "output_type": "execute_result"
    }
   ],
   "source": [
    "set(listOfJson[280].keys()).difference(set(listOfJson[0].keys()))"
   ]
  },
  {
   "cell_type": "code",
   "execution_count": 32,
   "id": "4fd49d35",
   "metadata": {},
   "outputs": [
    {
     "data": {
      "text/plain": [
       "[{'@id': 'https://data.datatourisme.fr/5f07a677-4e25-3165-ab8d-9454874d76b5',\n",
       "  '@type': ['Period'],\n",
       "  'endDate': '2023-09-16',\n",
       "  'startDate': '2023-09-12'}]"
      ]
     },
     "execution_count": 32,
     "metadata": {},
     "output_type": "execute_result"
    }
   ],
   "source": [
    "listOfJson[280]['takesPlaceAt']"
   ]
  },
  {
   "cell_type": "code",
   "execution_count": 51,
   "id": "24140fc5",
   "metadata": {},
   "outputs": [
    {
     "name": "stdout",
     "output_type": "stream",
     "text": [
      "<class 'pandas.core.frame.DataFrame'>\n",
      "RangeIndex: 623 entries, 0 to 622\n",
      "Data columns (total 39 columns):\n",
      " #   Column                             Non-Null Count  Dtype \n",
      "---  ------                             --------------  ----- \n",
      " 0   @id                                623 non-null    object\n",
      " 1   dc:identifier                      623 non-null    object\n",
      " 2   @type                              623 non-null    object\n",
      " 3   hasBeenPublishedBy                 623 non-null    object\n",
      " 4   hasContact                         614 non-null    object\n",
      " 5   hasDescription                     604 non-null    object\n",
      " 6   hasTheme                           277 non-null    object\n",
      " 7   hasTranslatedProperty              604 non-null    object\n",
      " 8   isLocatedAt                        623 non-null    object\n",
      " 9   isOwnedBy                          623 non-null    object\n",
      " 10  lastUpdate                         623 non-null    object\n",
      " 11  lastUpdateDatatourisme             623 non-null    object\n",
      " 12  rdfs:comment.de                    604 non-null    object\n",
      " 13  rdfs:comment.en                    604 non-null    object\n",
      " 14  rdfs:comment.it                    604 non-null    object\n",
      " 15  rdfs:comment.fr                    604 non-null    object\n",
      " 16  rdfs:comment.nl                    604 non-null    object\n",
      " 17  rdfs:comment.es                    604 non-null    object\n",
      " 18  rdfs:label.en                      123 non-null    object\n",
      " 19  rdfs:label.it                      83 non-null     object\n",
      " 20  rdfs:label.fr                      623 non-null    object\n",
      " 21  hasBeenCreatedBy.@id               623 non-null    object\n",
      " 22  hasBeenCreatedBy.dc:identifier     623 non-null    object\n",
      " 23  hasBeenCreatedBy.schema:email      623 non-null    object\n",
      " 24  hasBeenCreatedBy.schema:legalName  623 non-null    object\n",
      " 25  hasBeenCreatedBy.@type             623 non-null    object\n",
      " 26  hasBeenCreatedBy.foaf:homepage     623 non-null    object\n",
      " 27  offers                             335 non-null    object\n",
      " 28  schema:endDate                     11 non-null     object\n",
      " 29  schema:startDate                   11 non-null     object\n",
      " 30  takesPlaceAt                       11 non-null     object\n",
      " 31  owl:sameAs                         31 non-null     object\n",
      " 32  hasRepresentation                  27 non-null     object\n",
      " 33  providesCuisineOfType              79 non-null     object\n",
      " 34  rdfs:label.de                      3 non-null      object\n",
      " 35  rdfs:label.ru                      3 non-null      object\n",
      " 36  rdfs:label.zh                      3 non-null      object\n",
      " 37  rdfs:label.nl                      3 non-null      object\n",
      " 38  rdfs:label.es                      3 non-null      object\n",
      "dtypes: object(39)\n",
      "memory usage: 189.9+ KB\n"
     ]
    }
   ],
   "source": [
    "pd.json_normalize(listOfJson, errors={'ignore'}).info()"
   ]
  },
  {
   "cell_type": "code",
   "execution_count": 47,
   "id": "7091e339",
   "metadata": {},
   "outputs": [
    {
     "data": {
      "text/html": [
       "<div>\n",
       "<style scoped>\n",
       "    .dataframe tbody tr th:only-of-type {\n",
       "        vertical-align: middle;\n",
       "    }\n",
       "\n",
       "    .dataframe tbody tr th {\n",
       "        vertical-align: top;\n",
       "    }\n",
       "\n",
       "    .dataframe thead th {\n",
       "        text-align: right;\n",
       "    }\n",
       "</style>\n",
       "<table border=\"1\" class=\"dataframe\">\n",
       "  <thead>\n",
       "    <tr style=\"text-align: right;\">\n",
       "      <th></th>\n",
       "      <th>@id</th>\n",
       "      <th>dc:identifier</th>\n",
       "      <th>@type</th>\n",
       "      <th>hasBeenPublishedBy</th>\n",
       "      <th>hasContact</th>\n",
       "      <th>hasDescription</th>\n",
       "      <th>hasTheme</th>\n",
       "      <th>hasTranslatedProperty</th>\n",
       "      <th>isLocatedAt</th>\n",
       "      <th>isOwnedBy</th>\n",
       "      <th>...</th>\n",
       "      <th>schema:startDate</th>\n",
       "      <th>takesPlaceAt</th>\n",
       "      <th>owl:sameAs</th>\n",
       "      <th>hasRepresentation</th>\n",
       "      <th>providesCuisineOfType</th>\n",
       "      <th>rdfs:label.de</th>\n",
       "      <th>rdfs:label.ru</th>\n",
       "      <th>rdfs:label.zh</th>\n",
       "      <th>rdfs:label.nl</th>\n",
       "      <th>rdfs:label.es</th>\n",
       "    </tr>\n",
       "  </thead>\n",
       "  <tbody>\n",
       "    <tr>\n",
       "      <th>0</th>\n",
       "      <td>https://data.datatourisme.fr/13/000fac17-cff9-...</td>\n",
       "      <td>5005925</td>\n",
       "      <td>[schema:LocalBusiness, ActivityProvider, Place...</td>\n",
       "      <td>[{'@id': 'https://data.datatourisme.fr/8a9feb4...</td>\n",
       "      <td>[{'@id': 'https://data.datatourisme.fr/d7f7f12...</td>\n",
       "      <td>[{'@id': 'https://data.datatourisme.fr/1759cd3...</td>\n",
       "      <td>[{'@id': 'kb:SeaKayaking', '@type': ['SportsTh...</td>\n",
       "      <td>[{'@id': 'https://data.datatourisme.fr/0b6fbe7...</td>\n",
       "      <td>[{'@id': 'https://data.datatourisme.fr/f4ee540...</td>\n",
       "      <td>[{'@id': 'https://data.datatourisme.fr/194c52e...</td>\n",
       "      <td>...</td>\n",
       "      <td>NaN</td>\n",
       "      <td>NaN</td>\n",
       "      <td>NaN</td>\n",
       "      <td>NaN</td>\n",
       "      <td>NaN</td>\n",
       "      <td>NaN</td>\n",
       "      <td>NaN</td>\n",
       "      <td>NaN</td>\n",
       "      <td>NaN</td>\n",
       "      <td>NaN</td>\n",
       "    </tr>\n",
       "    <tr>\n",
       "      <th>1</th>\n",
       "      <td>https://data.datatourisme.fr/13/016f3145-67f8-...</td>\n",
       "      <td>5663371</td>\n",
       "      <td>[schema:LocalBusiness, PlaceOfInterest, PointO...</td>\n",
       "      <td>[{'@id': 'https://data.datatourisme.fr/8a9feb4...</td>\n",
       "      <td>[{'@id': 'https://data.datatourisme.fr/ffcc278...</td>\n",
       "      <td>[{'@id': 'https://data.datatourisme.fr/b120860...</td>\n",
       "      <td>[{'@id': 'kb:Fishing', '@type': ['SportsTheme'...</td>\n",
       "      <td>[{'@id': 'https://data.datatourisme.fr/074eba6...</td>\n",
       "      <td>[{'@id': 'https://data.datatourisme.fr/91088f9...</td>\n",
       "      <td>[{'@id': 'https://data.datatourisme.fr/f5f950f...</td>\n",
       "      <td>...</td>\n",
       "      <td>NaN</td>\n",
       "      <td>NaN</td>\n",
       "      <td>NaN</td>\n",
       "      <td>NaN</td>\n",
       "      <td>NaN</td>\n",
       "      <td>NaN</td>\n",
       "      <td>NaN</td>\n",
       "      <td>NaN</td>\n",
       "      <td>NaN</td>\n",
       "      <td>NaN</td>\n",
       "    </tr>\n",
       "    <tr>\n",
       "      <th>2</th>\n",
       "      <td>https://data.datatourisme.fr/13/018c05e0-d6c7-...</td>\n",
       "      <td>5271003</td>\n",
       "      <td>[schema:LocalBusiness, schema:TouristInformati...</td>\n",
       "      <td>[{'@id': 'https://data.datatourisme.fr/8a9feb4...</td>\n",
       "      <td>[{'@id': 'https://data.datatourisme.fr/8943b35...</td>\n",
       "      <td>[{'@id': 'https://data.datatourisme.fr/a240758...</td>\n",
       "      <td>NaN</td>\n",
       "      <td>[{'@id': 'https://data.datatourisme.fr/06be4ba...</td>\n",
       "      <td>[{'@id': 'https://data.datatourisme.fr/a768f98...</td>\n",
       "      <td>[{'@id': 'https://data.datatourisme.fr/194c52e...</td>\n",
       "      <td>...</td>\n",
       "      <td>NaN</td>\n",
       "      <td>NaN</td>\n",
       "      <td>NaN</td>\n",
       "      <td>NaN</td>\n",
       "      <td>NaN</td>\n",
       "      <td>NaN</td>\n",
       "      <td>NaN</td>\n",
       "      <td>NaN</td>\n",
       "      <td>NaN</td>\n",
       "      <td>NaN</td>\n",
       "    </tr>\n",
       "    <tr>\n",
       "      <th>3</th>\n",
       "      <td>https://data.datatourisme.fr/13/019b2930-944c-...</td>\n",
       "      <td>6082389</td>\n",
       "      <td>[ArcheologicalSite, CulturalSite, PlaceOfInter...</td>\n",
       "      <td>[{'@id': 'https://data.datatourisme.fr/8a9feb4...</td>\n",
       "      <td>[{'@id': 'https://data.datatourisme.fr/4c72876...</td>\n",
       "      <td>[{'@id': 'https://data.datatourisme.fr/9164409...</td>\n",
       "      <td>[{'@id': 'kb:Culture', '@type': ['CulturalThem...</td>\n",
       "      <td>[{'@id': 'https://data.datatourisme.fr/7b8d6b7...</td>\n",
       "      <td>[{'@id': 'https://data.datatourisme.fr/a409144...</td>\n",
       "      <td>[{'@id': 'https://data.datatourisme.fr/f5f950f...</td>\n",
       "      <td>...</td>\n",
       "      <td>NaN</td>\n",
       "      <td>NaN</td>\n",
       "      <td>NaN</td>\n",
       "      <td>NaN</td>\n",
       "      <td>NaN</td>\n",
       "      <td>NaN</td>\n",
       "      <td>NaN</td>\n",
       "      <td>NaN</td>\n",
       "      <td>NaN</td>\n",
       "      <td>NaN</td>\n",
       "    </tr>\n",
       "    <tr>\n",
       "      <th>4</th>\n",
       "      <td>https://data.datatourisme.fr/13/0278689c-4ed8-...</td>\n",
       "      <td>5162838</td>\n",
       "      <td>[schema:Accommodation, schema:LodgingBusiness,...</td>\n",
       "      <td>[{'@id': 'https://data.datatourisme.fr/8a9feb4...</td>\n",
       "      <td>[{'@id': 'https://data.datatourisme.fr/6d5b858...</td>\n",
       "      <td>[{'@id': 'https://data.datatourisme.fr/6a7692f...</td>\n",
       "      <td>NaN</td>\n",
       "      <td>[{'@id': 'https://data.datatourisme.fr/239cdc0...</td>\n",
       "      <td>[{'@id': 'https://data.datatourisme.fr/e64583b...</td>\n",
       "      <td>[{'@id': 'https://data.datatourisme.fr/f5f950f...</td>\n",
       "      <td>...</td>\n",
       "      <td>NaN</td>\n",
       "      <td>NaN</td>\n",
       "      <td>NaN</td>\n",
       "      <td>NaN</td>\n",
       "      <td>NaN</td>\n",
       "      <td>NaN</td>\n",
       "      <td>NaN</td>\n",
       "      <td>NaN</td>\n",
       "      <td>NaN</td>\n",
       "      <td>NaN</td>\n",
       "    </tr>\n",
       "    <tr>\n",
       "      <th>...</th>\n",
       "      <td>...</td>\n",
       "      <td>...</td>\n",
       "      <td>...</td>\n",
       "      <td>...</td>\n",
       "      <td>...</td>\n",
       "      <td>...</td>\n",
       "      <td>...</td>\n",
       "      <td>...</td>\n",
       "      <td>...</td>\n",
       "      <td>...</td>\n",
       "      <td>...</td>\n",
       "      <td>...</td>\n",
       "      <td>...</td>\n",
       "      <td>...</td>\n",
       "      <td>...</td>\n",
       "      <td>...</td>\n",
       "      <td>...</td>\n",
       "      <td>...</td>\n",
       "      <td>...</td>\n",
       "      <td>...</td>\n",
       "      <td>...</td>\n",
       "    </tr>\n",
       "    <tr>\n",
       "      <th>618</th>\n",
       "      <td>https://data.datatourisme.fr/13/fe353538-c261-...</td>\n",
       "      <td>4999802</td>\n",
       "      <td>[PlaceOfInterest, PointOfInterest, SportsAndLe...</td>\n",
       "      <td>[{'@id': 'https://data.datatourisme.fr/8a9feb4...</td>\n",
       "      <td>[{'@id': 'https://data.datatourisme.fr/8bdc849...</td>\n",
       "      <td>[{'@id': 'https://data.datatourisme.fr/27f49b9...</td>\n",
       "      <td>NaN</td>\n",
       "      <td>[{'@id': 'https://data.datatourisme.fr/6f7a6a7...</td>\n",
       "      <td>[{'@id': 'https://data.datatourisme.fr/4f0e0d0...</td>\n",
       "      <td>[{'@id': 'https://data.datatourisme.fr/252af22...</td>\n",
       "      <td>...</td>\n",
       "      <td>NaN</td>\n",
       "      <td>NaN</td>\n",
       "      <td>NaN</td>\n",
       "      <td>NaN</td>\n",
       "      <td>NaN</td>\n",
       "      <td>NaN</td>\n",
       "      <td>NaN</td>\n",
       "      <td>NaN</td>\n",
       "      <td>NaN</td>\n",
       "      <td>NaN</td>\n",
       "    </tr>\n",
       "    <tr>\n",
       "      <th>619</th>\n",
       "      <td>https://data.datatourisme.fr/13/fee026aa-0aa1-...</td>\n",
       "      <td>5324812</td>\n",
       "      <td>[schema:Landform, Beach, NaturalHeritage, Plac...</td>\n",
       "      <td>[{'@id': 'https://data.datatourisme.fr/8a9feb4...</td>\n",
       "      <td>NaN</td>\n",
       "      <td>[{'@id': 'https://data.datatourisme.fr/0d3456f...</td>\n",
       "      <td>[{'@id': 'kb:Bathing', '@type': ['Accommodatio...</td>\n",
       "      <td>[{'@id': 'https://data.datatourisme.fr/2e882b8...</td>\n",
       "      <td>[{'@id': 'https://data.datatourisme.fr/6955778...</td>\n",
       "      <td>[{'@id': 'https://data.datatourisme.fr/252af22...</td>\n",
       "      <td>...</td>\n",
       "      <td>NaN</td>\n",
       "      <td>NaN</td>\n",
       "      <td>NaN</td>\n",
       "      <td>NaN</td>\n",
       "      <td>NaN</td>\n",
       "      <td>NaN</td>\n",
       "      <td>NaN</td>\n",
       "      <td>NaN</td>\n",
       "      <td>NaN</td>\n",
       "      <td>NaN</td>\n",
       "    </tr>\n",
       "    <tr>\n",
       "      <th>620</th>\n",
       "      <td>https://data.datatourisme.fr/13/ff22bb83-6515-...</td>\n",
       "      <td>4989394</td>\n",
       "      <td>[schema:FoodEstablishment, FoodEstablishment, ...</td>\n",
       "      <td>[{'@id': 'https://data.datatourisme.fr/8a9feb4...</td>\n",
       "      <td>[{'@id': 'https://data.datatourisme.fr/be58956...</td>\n",
       "      <td>[{'@id': 'https://data.datatourisme.fr/a1be489...</td>\n",
       "      <td>[{'@id': 'kb:MediterraneanCuisine', '@type': [...</td>\n",
       "      <td>[{'@id': 'https://data.datatourisme.fr/43504f9...</td>\n",
       "      <td>[{'@id': 'https://data.datatourisme.fr/e837a79...</td>\n",
       "      <td>[{'@id': 'https://data.datatourisme.fr/194c52e...</td>\n",
       "      <td>...</td>\n",
       "      <td>NaN</td>\n",
       "      <td>NaN</td>\n",
       "      <td>NaN</td>\n",
       "      <td>NaN</td>\n",
       "      <td>[{'@id': 'kb:MediterraneanCuisine', '@type': [...</td>\n",
       "      <td>NaN</td>\n",
       "      <td>NaN</td>\n",
       "      <td>NaN</td>\n",
       "      <td>NaN</td>\n",
       "      <td>NaN</td>\n",
       "    </tr>\n",
       "    <tr>\n",
       "      <th>621</th>\n",
       "      <td>https://data.datatourisme.fr/13/ffc6590c-e617-...</td>\n",
       "      <td>5271918</td>\n",
       "      <td>[schema:FoodEstablishment, FoodEstablishment, ...</td>\n",
       "      <td>[{'@id': 'https://data.datatourisme.fr/8a9feb4...</td>\n",
       "      <td>[{'@id': 'https://data.datatourisme.fr/6fccd2d...</td>\n",
       "      <td>[{'@id': 'https://data.datatourisme.fr/50f30f9...</td>\n",
       "      <td>[{'@id': 'kb:MediterraneanCuisine', '@type': [...</td>\n",
       "      <td>[{'@id': 'https://data.datatourisme.fr/05b75b5...</td>\n",
       "      <td>[{'@id': 'https://data.datatourisme.fr/00b8312...</td>\n",
       "      <td>[{'@id': 'https://data.datatourisme.fr/194c52e...</td>\n",
       "      <td>...</td>\n",
       "      <td>NaN</td>\n",
       "      <td>NaN</td>\n",
       "      <td>NaN</td>\n",
       "      <td>NaN</td>\n",
       "      <td>[{'@id': 'kb:MediterraneanCuisine', '@type': [...</td>\n",
       "      <td>NaN</td>\n",
       "      <td>NaN</td>\n",
       "      <td>NaN</td>\n",
       "      <td>NaN</td>\n",
       "      <td>NaN</td>\n",
       "    </tr>\n",
       "    <tr>\n",
       "      <th>622</th>\n",
       "      <td>https://data.datatourisme.fr/13/ffe728c8-9066-...</td>\n",
       "      <td>5005873</td>\n",
       "      <td>[schema:LocalBusiness, PlaceOfInterest, PointO...</td>\n",
       "      <td>[{'@id': 'https://data.datatourisme.fr/8a9feb4...</td>\n",
       "      <td>[{'@id': 'https://data.datatourisme.fr/cd74fc0...</td>\n",
       "      <td>[{'@id': 'https://data.datatourisme.fr/7cf7a2e...</td>\n",
       "      <td>NaN</td>\n",
       "      <td>[{'@id': 'https://data.datatourisme.fr/8d2ba11...</td>\n",
       "      <td>[{'@id': 'https://data.datatourisme.fr/96ebe3e...</td>\n",
       "      <td>[{'@id': 'https://data.datatourisme.fr/194c52e...</td>\n",
       "      <td>...</td>\n",
       "      <td>NaN</td>\n",
       "      <td>NaN</td>\n",
       "      <td>NaN</td>\n",
       "      <td>NaN</td>\n",
       "      <td>NaN</td>\n",
       "      <td>NaN</td>\n",
       "      <td>NaN</td>\n",
       "      <td>NaN</td>\n",
       "      <td>NaN</td>\n",
       "      <td>NaN</td>\n",
       "    </tr>\n",
       "  </tbody>\n",
       "</table>\n",
       "<p>623 rows × 39 columns</p>\n",
       "</div>"
      ],
      "text/plain": [
       "                                                   @id dc:identifier   \n",
       "0    https://data.datatourisme.fr/13/000fac17-cff9-...       5005925  \\\n",
       "1    https://data.datatourisme.fr/13/016f3145-67f8-...       5663371   \n",
       "2    https://data.datatourisme.fr/13/018c05e0-d6c7-...       5271003   \n",
       "3    https://data.datatourisme.fr/13/019b2930-944c-...       6082389   \n",
       "4    https://data.datatourisme.fr/13/0278689c-4ed8-...       5162838   \n",
       "..                                                 ...           ...   \n",
       "618  https://data.datatourisme.fr/13/fe353538-c261-...       4999802   \n",
       "619  https://data.datatourisme.fr/13/fee026aa-0aa1-...       5324812   \n",
       "620  https://data.datatourisme.fr/13/ff22bb83-6515-...       4989394   \n",
       "621  https://data.datatourisme.fr/13/ffc6590c-e617-...       5271918   \n",
       "622  https://data.datatourisme.fr/13/ffe728c8-9066-...       5005873   \n",
       "\n",
       "                                                 @type   \n",
       "0    [schema:LocalBusiness, ActivityProvider, Place...  \\\n",
       "1    [schema:LocalBusiness, PlaceOfInterest, PointO...   \n",
       "2    [schema:LocalBusiness, schema:TouristInformati...   \n",
       "3    [ArcheologicalSite, CulturalSite, PlaceOfInter...   \n",
       "4    [schema:Accommodation, schema:LodgingBusiness,...   \n",
       "..                                                 ...   \n",
       "618  [PlaceOfInterest, PointOfInterest, SportsAndLe...   \n",
       "619  [schema:Landform, Beach, NaturalHeritage, Plac...   \n",
       "620  [schema:FoodEstablishment, FoodEstablishment, ...   \n",
       "621  [schema:FoodEstablishment, FoodEstablishment, ...   \n",
       "622  [schema:LocalBusiness, PlaceOfInterest, PointO...   \n",
       "\n",
       "                                    hasBeenPublishedBy   \n",
       "0    [{'@id': 'https://data.datatourisme.fr/8a9feb4...  \\\n",
       "1    [{'@id': 'https://data.datatourisme.fr/8a9feb4...   \n",
       "2    [{'@id': 'https://data.datatourisme.fr/8a9feb4...   \n",
       "3    [{'@id': 'https://data.datatourisme.fr/8a9feb4...   \n",
       "4    [{'@id': 'https://data.datatourisme.fr/8a9feb4...   \n",
       "..                                                 ...   \n",
       "618  [{'@id': 'https://data.datatourisme.fr/8a9feb4...   \n",
       "619  [{'@id': 'https://data.datatourisme.fr/8a9feb4...   \n",
       "620  [{'@id': 'https://data.datatourisme.fr/8a9feb4...   \n",
       "621  [{'@id': 'https://data.datatourisme.fr/8a9feb4...   \n",
       "622  [{'@id': 'https://data.datatourisme.fr/8a9feb4...   \n",
       "\n",
       "                                            hasContact   \n",
       "0    [{'@id': 'https://data.datatourisme.fr/d7f7f12...  \\\n",
       "1    [{'@id': 'https://data.datatourisme.fr/ffcc278...   \n",
       "2    [{'@id': 'https://data.datatourisme.fr/8943b35...   \n",
       "3    [{'@id': 'https://data.datatourisme.fr/4c72876...   \n",
       "4    [{'@id': 'https://data.datatourisme.fr/6d5b858...   \n",
       "..                                                 ...   \n",
       "618  [{'@id': 'https://data.datatourisme.fr/8bdc849...   \n",
       "619                                                NaN   \n",
       "620  [{'@id': 'https://data.datatourisme.fr/be58956...   \n",
       "621  [{'@id': 'https://data.datatourisme.fr/6fccd2d...   \n",
       "622  [{'@id': 'https://data.datatourisme.fr/cd74fc0...   \n",
       "\n",
       "                                        hasDescription   \n",
       "0    [{'@id': 'https://data.datatourisme.fr/1759cd3...  \\\n",
       "1    [{'@id': 'https://data.datatourisme.fr/b120860...   \n",
       "2    [{'@id': 'https://data.datatourisme.fr/a240758...   \n",
       "3    [{'@id': 'https://data.datatourisme.fr/9164409...   \n",
       "4    [{'@id': 'https://data.datatourisme.fr/6a7692f...   \n",
       "..                                                 ...   \n",
       "618  [{'@id': 'https://data.datatourisme.fr/27f49b9...   \n",
       "619  [{'@id': 'https://data.datatourisme.fr/0d3456f...   \n",
       "620  [{'@id': 'https://data.datatourisme.fr/a1be489...   \n",
       "621  [{'@id': 'https://data.datatourisme.fr/50f30f9...   \n",
       "622  [{'@id': 'https://data.datatourisme.fr/7cf7a2e...   \n",
       "\n",
       "                                              hasTheme   \n",
       "0    [{'@id': 'kb:SeaKayaking', '@type': ['SportsTh...  \\\n",
       "1    [{'@id': 'kb:Fishing', '@type': ['SportsTheme'...   \n",
       "2                                                  NaN   \n",
       "3    [{'@id': 'kb:Culture', '@type': ['CulturalThem...   \n",
       "4                                                  NaN   \n",
       "..                                                 ...   \n",
       "618                                                NaN   \n",
       "619  [{'@id': 'kb:Bathing', '@type': ['Accommodatio...   \n",
       "620  [{'@id': 'kb:MediterraneanCuisine', '@type': [...   \n",
       "621  [{'@id': 'kb:MediterraneanCuisine', '@type': [...   \n",
       "622                                                NaN   \n",
       "\n",
       "                                 hasTranslatedProperty   \n",
       "0    [{'@id': 'https://data.datatourisme.fr/0b6fbe7...  \\\n",
       "1    [{'@id': 'https://data.datatourisme.fr/074eba6...   \n",
       "2    [{'@id': 'https://data.datatourisme.fr/06be4ba...   \n",
       "3    [{'@id': 'https://data.datatourisme.fr/7b8d6b7...   \n",
       "4    [{'@id': 'https://data.datatourisme.fr/239cdc0...   \n",
       "..                                                 ...   \n",
       "618  [{'@id': 'https://data.datatourisme.fr/6f7a6a7...   \n",
       "619  [{'@id': 'https://data.datatourisme.fr/2e882b8...   \n",
       "620  [{'@id': 'https://data.datatourisme.fr/43504f9...   \n",
       "621  [{'@id': 'https://data.datatourisme.fr/05b75b5...   \n",
       "622  [{'@id': 'https://data.datatourisme.fr/8d2ba11...   \n",
       "\n",
       "                                           isLocatedAt   \n",
       "0    [{'@id': 'https://data.datatourisme.fr/f4ee540...  \\\n",
       "1    [{'@id': 'https://data.datatourisme.fr/91088f9...   \n",
       "2    [{'@id': 'https://data.datatourisme.fr/a768f98...   \n",
       "3    [{'@id': 'https://data.datatourisme.fr/a409144...   \n",
       "4    [{'@id': 'https://data.datatourisme.fr/e64583b...   \n",
       "..                                                 ...   \n",
       "618  [{'@id': 'https://data.datatourisme.fr/4f0e0d0...   \n",
       "619  [{'@id': 'https://data.datatourisme.fr/6955778...   \n",
       "620  [{'@id': 'https://data.datatourisme.fr/e837a79...   \n",
       "621  [{'@id': 'https://data.datatourisme.fr/00b8312...   \n",
       "622  [{'@id': 'https://data.datatourisme.fr/96ebe3e...   \n",
       "\n",
       "                                             isOwnedBy  ... schema:startDate   \n",
       "0    [{'@id': 'https://data.datatourisme.fr/194c52e...  ...              NaN  \\\n",
       "1    [{'@id': 'https://data.datatourisme.fr/f5f950f...  ...              NaN   \n",
       "2    [{'@id': 'https://data.datatourisme.fr/194c52e...  ...              NaN   \n",
       "3    [{'@id': 'https://data.datatourisme.fr/f5f950f...  ...              NaN   \n",
       "4    [{'@id': 'https://data.datatourisme.fr/f5f950f...  ...              NaN   \n",
       "..                                                 ...  ...              ...   \n",
       "618  [{'@id': 'https://data.datatourisme.fr/252af22...  ...              NaN   \n",
       "619  [{'@id': 'https://data.datatourisme.fr/252af22...  ...              NaN   \n",
       "620  [{'@id': 'https://data.datatourisme.fr/194c52e...  ...              NaN   \n",
       "621  [{'@id': 'https://data.datatourisme.fr/194c52e...  ...              NaN   \n",
       "622  [{'@id': 'https://data.datatourisme.fr/194c52e...  ...              NaN   \n",
       "\n",
       "    takesPlaceAt owl:sameAs hasRepresentation   \n",
       "0            NaN        NaN               NaN  \\\n",
       "1            NaN        NaN               NaN   \n",
       "2            NaN        NaN               NaN   \n",
       "3            NaN        NaN               NaN   \n",
       "4            NaN        NaN               NaN   \n",
       "..           ...        ...               ...   \n",
       "618          NaN        NaN               NaN   \n",
       "619          NaN        NaN               NaN   \n",
       "620          NaN        NaN               NaN   \n",
       "621          NaN        NaN               NaN   \n",
       "622          NaN        NaN               NaN   \n",
       "\n",
       "                                 providesCuisineOfType rdfs:label.de   \n",
       "0                                                  NaN           NaN  \\\n",
       "1                                                  NaN           NaN   \n",
       "2                                                  NaN           NaN   \n",
       "3                                                  NaN           NaN   \n",
       "4                                                  NaN           NaN   \n",
       "..                                                 ...           ...   \n",
       "618                                                NaN           NaN   \n",
       "619                                                NaN           NaN   \n",
       "620  [{'@id': 'kb:MediterraneanCuisine', '@type': [...           NaN   \n",
       "621  [{'@id': 'kb:MediterraneanCuisine', '@type': [...           NaN   \n",
       "622                                                NaN           NaN   \n",
       "\n",
       "    rdfs:label.ru rdfs:label.zh rdfs:label.nl rdfs:label.es  \n",
       "0             NaN           NaN           NaN           NaN  \n",
       "1             NaN           NaN           NaN           NaN  \n",
       "2             NaN           NaN           NaN           NaN  \n",
       "3             NaN           NaN           NaN           NaN  \n",
       "4             NaN           NaN           NaN           NaN  \n",
       "..            ...           ...           ...           ...  \n",
       "618           NaN           NaN           NaN           NaN  \n",
       "619           NaN           NaN           NaN           NaN  \n",
       "620           NaN           NaN           NaN           NaN  \n",
       "621           NaN           NaN           NaN           NaN  \n",
       "622           NaN           NaN           NaN           NaN  \n",
       "\n",
       "[623 rows x 39 columns]"
      ]
     },
     "execution_count": 47,
     "metadata": {},
     "output_type": "execute_result"
    }
   ],
   "source": [
    "pd.json_normalize(listOfJson, errors={'ignore'})"
   ]
  },
  {
   "cell_type": "code",
   "execution_count": 52,
   "id": "c5360e92",
   "metadata": {},
   "outputs": [
    {
     "ename": "KeyError",
     "evalue": "\"Key 'hasDescription' not found. If specifying a record_path, all elements of data should have the path.\"",
     "output_type": "error",
     "traceback": [
      "\u001b[0;31m---------------------------------------------------------------------------\u001b[0m",
      "\u001b[0;31mKeyError\u001b[0m                                  Traceback (most recent call last)",
      "File \u001b[0;32m/mnt/c/Users/tfavr/itvacances/lib/python3.8/site-packages/pandas/io/json/_normalize.py:400\u001b[0m, in \u001b[0;36mjson_normalize.<locals>._pull_field\u001b[0;34m(js, spec, extract_record)\u001b[0m\n\u001b[1;32m    399\u001b[0m     \u001b[38;5;28;01melse\u001b[39;00m:\n\u001b[0;32m--> 400\u001b[0m         result \u001b[38;5;241m=\u001b[39m \u001b[43mresult\u001b[49m\u001b[43m[\u001b[49m\u001b[43mspec\u001b[49m\u001b[43m]\u001b[49m\n\u001b[1;32m    401\u001b[0m \u001b[38;5;28;01mexcept\u001b[39;00m \u001b[38;5;167;01mKeyError\u001b[39;00m \u001b[38;5;28;01mas\u001b[39;00m e:\n",
      "\u001b[0;31mKeyError\u001b[0m: 'hasDescription'",
      "\nThe above exception was the direct cause of the following exception:\n",
      "\u001b[0;31mKeyError\u001b[0m                                  Traceback (most recent call last)",
      "Cell \u001b[0;32mIn[52], line 1\u001b[0m\n\u001b[0;32m----> 1\u001b[0m \u001b[43mpd\u001b[49m\u001b[38;5;241;43m.\u001b[39;49m\u001b[43mjson_normalize\u001b[49m\u001b[43m(\u001b[49m\u001b[43mlistOfJson\u001b[49m\u001b[43m,\u001b[49m\u001b[43m \u001b[49m\u001b[43merrors\u001b[49m\u001b[38;5;241;43m=\u001b[39;49m\u001b[38;5;124;43m'\u001b[39;49m\u001b[38;5;124;43mignore\u001b[39;49m\u001b[38;5;124;43m'\u001b[39;49m\u001b[43m,\u001b[49m\u001b[43m \u001b[49m\u001b[43mrecord_path\u001b[49m\u001b[38;5;241;43m=\u001b[39;49m\u001b[43m[\u001b[49m\u001b[38;5;124;43m'\u001b[39;49m\u001b[38;5;124;43mhasDescription\u001b[39;49m\u001b[38;5;124;43m'\u001b[39;49m\u001b[43m]\u001b[49m\u001b[43m)\u001b[49m\n",
      "File \u001b[0;32m/mnt/c/Users/tfavr/itvacances/lib/python3.8/site-packages/pandas/io/json/_normalize.py:519\u001b[0m, in \u001b[0;36mjson_normalize\u001b[0;34m(data, record_path, meta, meta_prefix, record_prefix, errors, sep, max_level)\u001b[0m\n\u001b[1;32m    516\u001b[0m                 meta_vals[key]\u001b[38;5;241m.\u001b[39mappend(meta_val)\n\u001b[1;32m    517\u001b[0m             records\u001b[38;5;241m.\u001b[39mextend(recs)\n\u001b[0;32m--> 519\u001b[0m \u001b[43m_recursive_extract\u001b[49m\u001b[43m(\u001b[49m\u001b[43mdata\u001b[49m\u001b[43m,\u001b[49m\u001b[43m \u001b[49m\u001b[43mrecord_path\u001b[49m\u001b[43m,\u001b[49m\u001b[43m \u001b[49m\u001b[43m{\u001b[49m\u001b[43m}\u001b[49m\u001b[43m,\u001b[49m\u001b[43m \u001b[49m\u001b[43mlevel\u001b[49m\u001b[38;5;241;43m=\u001b[39;49m\u001b[38;5;241;43m0\u001b[39;49m\u001b[43m)\u001b[49m\n\u001b[1;32m    521\u001b[0m result \u001b[38;5;241m=\u001b[39m DataFrame(records)\n\u001b[1;32m    523\u001b[0m \u001b[38;5;28;01mif\u001b[39;00m record_prefix \u001b[38;5;129;01mis\u001b[39;00m \u001b[38;5;129;01mnot\u001b[39;00m \u001b[38;5;28;01mNone\u001b[39;00m:\n",
      "File \u001b[0;32m/mnt/c/Users/tfavr/itvacances/lib/python3.8/site-packages/pandas/io/json/_normalize.py:501\u001b[0m, in \u001b[0;36mjson_normalize.<locals>._recursive_extract\u001b[0;34m(data, path, seen_meta, level)\u001b[0m\n\u001b[1;32m    499\u001b[0m \u001b[38;5;28;01melse\u001b[39;00m:\n\u001b[1;32m    500\u001b[0m     \u001b[38;5;28;01mfor\u001b[39;00m obj \u001b[38;5;129;01min\u001b[39;00m data:\n\u001b[0;32m--> 501\u001b[0m         recs \u001b[38;5;241m=\u001b[39m \u001b[43m_pull_records\u001b[49m\u001b[43m(\u001b[49m\u001b[43mobj\u001b[49m\u001b[43m,\u001b[49m\u001b[43m \u001b[49m\u001b[43mpath\u001b[49m\u001b[43m[\u001b[49m\u001b[38;5;241;43m0\u001b[39;49m\u001b[43m]\u001b[49m\u001b[43m)\u001b[49m\n\u001b[1;32m    502\u001b[0m         recs \u001b[38;5;241m=\u001b[39m [\n\u001b[1;32m    503\u001b[0m             nested_to_record(r, sep\u001b[38;5;241m=\u001b[39msep, max_level\u001b[38;5;241m=\u001b[39mmax_level)\n\u001b[1;32m    504\u001b[0m             \u001b[38;5;28;01mif\u001b[39;00m \u001b[38;5;28misinstance\u001b[39m(r, \u001b[38;5;28mdict\u001b[39m)\n\u001b[1;32m    505\u001b[0m             \u001b[38;5;28;01melse\u001b[39;00m r\n\u001b[1;32m    506\u001b[0m             \u001b[38;5;28;01mfor\u001b[39;00m r \u001b[38;5;129;01min\u001b[39;00m recs\n\u001b[1;32m    507\u001b[0m         ]\n\u001b[1;32m    509\u001b[0m         \u001b[38;5;66;03m# For repeating the metadata later\u001b[39;00m\n",
      "File \u001b[0;32m/mnt/c/Users/tfavr/itvacances/lib/python3.8/site-packages/pandas/io/json/_normalize.py:423\u001b[0m, in \u001b[0;36mjson_normalize.<locals>._pull_records\u001b[0;34m(js, spec)\u001b[0m\n\u001b[1;32m    417\u001b[0m \u001b[38;5;28;01mdef\u001b[39;00m \u001b[38;5;21m_pull_records\u001b[39m(js: \u001b[38;5;28mdict\u001b[39m[\u001b[38;5;28mstr\u001b[39m, Any], spec: \u001b[38;5;28mlist\u001b[39m \u001b[38;5;241m|\u001b[39m \u001b[38;5;28mstr\u001b[39m) \u001b[38;5;241m-\u001b[39m\u001b[38;5;241m>\u001b[39m \u001b[38;5;28mlist\u001b[39m:\n\u001b[1;32m    418\u001b[0m \u001b[38;5;250m    \u001b[39m\u001b[38;5;124;03m\"\"\"\u001b[39;00m\n\u001b[1;32m    419\u001b[0m \u001b[38;5;124;03m    Internal function to pull field for records, and similar to\u001b[39;00m\n\u001b[1;32m    420\u001b[0m \u001b[38;5;124;03m    _pull_field, but require to return list. And will raise error\u001b[39;00m\n\u001b[1;32m    421\u001b[0m \u001b[38;5;124;03m    if has non iterable value.\u001b[39;00m\n\u001b[1;32m    422\u001b[0m \u001b[38;5;124;03m    \"\"\"\u001b[39;00m\n\u001b[0;32m--> 423\u001b[0m     result \u001b[38;5;241m=\u001b[39m \u001b[43m_pull_field\u001b[49m\u001b[43m(\u001b[49m\u001b[43mjs\u001b[49m\u001b[43m,\u001b[49m\u001b[43m \u001b[49m\u001b[43mspec\u001b[49m\u001b[43m,\u001b[49m\u001b[43m \u001b[49m\u001b[43mextract_record\u001b[49m\u001b[38;5;241;43m=\u001b[39;49m\u001b[38;5;28;43;01mTrue\u001b[39;49;00m\u001b[43m)\u001b[49m\n\u001b[1;32m    425\u001b[0m     \u001b[38;5;66;03m# GH 31507 GH 30145, GH 26284 if result is not list, raise TypeError if not\u001b[39;00m\n\u001b[1;32m    426\u001b[0m     \u001b[38;5;66;03m# null, otherwise return an empty list\u001b[39;00m\n\u001b[1;32m    427\u001b[0m     \u001b[38;5;28;01mif\u001b[39;00m \u001b[38;5;129;01mnot\u001b[39;00m \u001b[38;5;28misinstance\u001b[39m(result, \u001b[38;5;28mlist\u001b[39m):\n",
      "File \u001b[0;32m/mnt/c/Users/tfavr/itvacances/lib/python3.8/site-packages/pandas/io/json/_normalize.py:403\u001b[0m, in \u001b[0;36mjson_normalize.<locals>._pull_field\u001b[0;34m(js, spec, extract_record)\u001b[0m\n\u001b[1;32m    401\u001b[0m \u001b[38;5;28;01mexcept\u001b[39;00m \u001b[38;5;167;01mKeyError\u001b[39;00m \u001b[38;5;28;01mas\u001b[39;00m e:\n\u001b[1;32m    402\u001b[0m     \u001b[38;5;28;01mif\u001b[39;00m extract_record:\n\u001b[0;32m--> 403\u001b[0m         \u001b[38;5;28;01mraise\u001b[39;00m \u001b[38;5;167;01mKeyError\u001b[39;00m(\n\u001b[1;32m    404\u001b[0m             \u001b[38;5;124mf\u001b[39m\u001b[38;5;124m\"\u001b[39m\u001b[38;5;124mKey \u001b[39m\u001b[38;5;132;01m{\u001b[39;00me\u001b[38;5;132;01m}\u001b[39;00m\u001b[38;5;124m not found. If specifying a record_path, all elements of \u001b[39m\u001b[38;5;124m\"\u001b[39m\n\u001b[1;32m    405\u001b[0m             \u001b[38;5;124mf\u001b[39m\u001b[38;5;124m\"\u001b[39m\u001b[38;5;124mdata should have the path.\u001b[39m\u001b[38;5;124m\"\u001b[39m\n\u001b[1;32m    406\u001b[0m         ) \u001b[38;5;28;01mfrom\u001b[39;00m \u001b[38;5;21;01me\u001b[39;00m\n\u001b[1;32m    407\u001b[0m     \u001b[38;5;28;01mif\u001b[39;00m errors \u001b[38;5;241m==\u001b[39m \u001b[38;5;124m\"\u001b[39m\u001b[38;5;124mignore\u001b[39m\u001b[38;5;124m\"\u001b[39m:\n\u001b[1;32m    408\u001b[0m         \u001b[38;5;28;01mreturn\u001b[39;00m np\u001b[38;5;241m.\u001b[39mnan\n",
      "\u001b[0;31mKeyError\u001b[0m: \"Key 'hasDescription' not found. If specifying a record_path, all elements of data should have the path.\""
     ]
    }
   ],
   "source": [
    "pd.json_normalize(listOfJson, errors='ignore', record_path=['hasDescription'])"
   ]
  },
  {
   "cell_type": "code",
   "execution_count": null,
   "id": "291b3d8b",
   "metadata": {},
   "outputs": [],
   "source": []
  }
 ],
 "metadata": {
  "kernelspec": {
   "display_name": "Python 3 (ipykernel)",
   "language": "python",
   "name": "python3"
  },
  "language_info": {
   "codemirror_mode": {
    "name": "ipython",
    "version": 3
   },
   "file_extension": ".py",
   "mimetype": "text/x-python",
   "name": "python",
   "nbconvert_exporter": "python",
   "pygments_lexer": "ipython3",
   "version": "3.8.10"
  }
 },
 "nbformat": 4,
 "nbformat_minor": 5
}
