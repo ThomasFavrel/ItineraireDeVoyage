{
 "cells": [
  {
   "cell_type": "markdown",
   "id": "9427ee4e",
   "metadata": {},
   "source": [
    "# ITINERAIRE DE VACANCE - EXPLORATION DES DONNÉES"
   ]
  },
  {
   "cell_type": "markdown",
   "id": "9478e93a",
   "metadata": {},
   "source": [
    "## 0. Import des modules"
   ]
  },
  {
   "cell_type": "code",
   "execution_count": 1,
   "id": "5f9c1cfa",
   "metadata": {},
   "outputs": [],
   "source": [
    "import pandas as pd\n",
    "import json\n",
    "from pprint import pprint"
   ]
  },
  {
   "cell_type": "markdown",
   "id": "8fc631a4",
   "metadata": {},
   "source": [
    "## 1. Import des données\n",
    "### 1.1 JSON\n",
    "#### 1.1.1 Index"
   ]
  },
  {
   "cell_type": "code",
   "execution_count": 2,
   "id": "46fd78c6",
   "metadata": {},
   "outputs": [],
   "source": [
    "objects_path = '../Data/JSON/objects/'"
   ]
  },
  {
   "cell_type": "code",
   "execution_count": 3,
   "id": "175e40e8",
   "metadata": {},
   "outputs": [],
   "source": [
    "index_path = '../Data/JSON/index.json'"
   ]
  },
  {
   "cell_type": "code",
   "execution_count": 4,
   "id": "0053c8d7",
   "metadata": {},
   "outputs": [],
   "source": [
    "with open(index_path) as json_data:\n",
    "    index = json.load(json_data)"
   ]
  },
  {
   "cell_type": "markdown",
   "id": "65b47acb",
   "metadata": {},
   "source": [
    "L'index contient plusieurs informations:\n",
    "* `file`: chemin d'accès vers les objets json\n",
    "* `label`: nom du Point Of Interrest\n",
    "* `lastUpdateDatatourisme`: dernière mise à jour du POI sur Datatourisme"
   ]
  },
  {
   "cell_type": "code",
   "execution_count": 5,
   "id": "aa6dba5c",
   "metadata": {},
   "outputs": [
    {
     "name": "stdout",
     "output_type": "stream",
     "text": [
      "[{'file': '0/00/13-000fac17-cff9-3918-a3d6-8edc919c8533.json',\n",
      "  'label': 'Calvi Jet Locations',\n",
      "  'lastUpdateDatatourisme': '2023-02-22T06:42:37.696Z'},\n",
      " {'file': '0/01/13-016f3145-67f8-33c3-9293-109b420a9104.json',\n",
      "  'label': 'Promenades du Golfe',\n",
      "  'lastUpdateDatatourisme': '2023-04-02T05:48:09.233Z'}]\n"
     ]
    }
   ],
   "source": [
    "pprint(index[:2])"
   ]
  },
  {
   "cell_type": "markdown",
   "id": "fe88d4f1",
   "metadata": {},
   "source": [
    "#### 1.1.2 Exploration d'un objet json"
   ]
  },
  {
   "cell_type": "code",
   "execution_count": 6,
   "id": "b8765dfb",
   "metadata": {},
   "outputs": [],
   "source": [
    "jsonObject_path = objects_path + index[0]['file']"
   ]
  },
  {
   "cell_type": "code",
   "execution_count": 7,
   "id": "efa4c0ec",
   "metadata": {},
   "outputs": [],
   "source": [
    "with open(jsonObject_path) as json_data:\n",
    "    jsonObject = json.load(json_data)"
   ]
  },
  {
   "cell_type": "markdown",
   "id": "0baf49b6",
   "metadata": {},
   "source": [
    "Nous avons 15 clés dans notre objet json:\n",
    "* `@id`: Lien vers le POI.\n",
    "* `dc:identifier`: Identifiant unique\n",
    "* `@type`: La classification de POI. Par exemple : festival, musée, chambre d’hôtes...\n",
    "* `rdfs:comment`: Commentaire du POI\n",
    "* `rdfs:label`: Nom du Point Of Interrest\n",
    "* `hasBeenCreatedBy`: L'agent qui a créé ce POI dans le système d'information :\n",
    "    * `@id`: Lien vers l'agent sur DATAtourisme\n",
    "    * `dc:identifier`: Identifiant unique\n",
    "    * `schema:email`: E-mail de l'agent\n",
    "    * `schema:legalName`: Nom officiel de l'agent\n",
    "    * `@type`: Type de l'agent\n",
    "    * `foaf:homepage`: Lien vers le site de l'agent\n",
    "* `hasBeenPublishedBy`: L'agent qui a publié ce POI dans le système d'information:\n",
    "    * `@id`: Lien vers l'agent sur DATAtourisme\n",
    "    * `schema:legalName`: Nom officiel de l'agent\n",
    "    * `@type`: Type de l'agent\n",
    "    * `foaf:homepage`: Lien vers le site de l'agent\n",
    "* `hasContact`: L'agent à contacter pour affaires générales relatives à ce POI:\n",
    "    * `@id`: Lien vers l'agent sur DATAtourisme\n",
    "    * `schema:email`: E-mail de l'agent\n",
    "    * `schema:telephone`: Telephone de l'agent\n",
    "    * `@type`: Type de l'agent\n",
    "    * `foaf:homepage`: Lien vers le site de l'agent\n",
    "* `hasDescription`: Description textuelle courte ou longue du POI pouvant être associée à une audience. Par exemple, un POI peut avoir une description dédiée aux écoles et une autre dédiée au grand public. Si une description n'a aucune audience renseignée, on suppose qu'elle est dédiée à tous les publics:\n",
    "    * `@id`: Lien vers la description\n",
    "    * `@type`: Type(s) de la descripton\n",
    "    * `hasTranslatedProperty`: Informations de traductions:\n",
    "        * `@id`: Lien vers les informations de la traduction de la description\n",
    "        * `dc:contributor`: Traducteur (api.deepl.com/v2/translate)\n",
    "        * `rdf:language`: Langue de la traduction\n",
    "        * `rdf:predicate`: Type de la description\n",
    "    * `shortDescription`: Dictionnaire des descriptions traduit en plusieurs langues:\n",
    "        * `fr`: En fr\n",
    "        * `de`: ...\n",
    "* `hasTheme`: Liste des thèmes:\n",
    "    * `@id`: Identifiant du thème au format kb:[theme en anglais sans espace]\n",
    "    * `@type`: Type du thème\n",
    "    * `rdfs:label`: Thème en différente langue:\n",
    "        * `fr`: fr\n",
    "        * `de`: ...\n",
    "* `hasTranslatedProperty`: liste d'informations de traductions sur le commentaire:\n",
    "    * `@id`: Lien vers les informations de la traduction du commentaire\n",
    "    * `dc:contributor`: Traducteur (api.deepl.com/v2/translate)\n",
    "    * `rdf:language`: Langue de la traduction\n",
    "    * `rdf:predicate`: Table de jointure entre @id et comment\n",
    "* `isLocatedAt`: Informations sur l'emplacement géographique du POI:\n",
    "    * `@id`: Lien vers les informations sur l'emplacement\n",
    "    * `schema:address`: Informations sur l'adresse postale\n",
    "        * `@id`: Lien vers les informations de l'adresse postale\n",
    "        * `schema:addressLocality`: Ville\n",
    "        * `schema:postalCode`: Code postale\n",
    "        * `schema:streetAddress`: Adresse postale (certaines données ne sont pas propres)\n",
    "        * `@type`: Type de l'adresse\n",
    "        * `hasAddressCity`: Informations complémentaires sur l'adresse postale\n",
    "            * `@id`: Identifiant\n",
    "            * `@type`: Type de localisation (ex: City)\n",
    "            * `rdfs:label`: Liste de la ville traduite ['fr']\n",
    "            * `insee`: Code Insee\n",
    "            * `isPartOfDepartment`: Informations du département\n",
    "                * `@id`: Identifiant\n",
    "                * `@type`: Type de localisation (ex: Department)\n",
    "                * `rdfs:label`: Liste de la ville traduite ['fr']\n",
    "                * `insee`: Code Insee\n",
    "                * `isPartOfRegion`: Informations du département:\n",
    "                    * `@id`: Identifiant\n",
    "                    * `@type`: Type de localisation (ex: Region)\n",
    "                    * `rdfs:label`: Liste de la ville traduite ['fr']\n",
    "                    * `insee`: Code Insee\n",
    "                    * `isPartOfCountry`: Informations du Pays:\n",
    "                        * `@id`: Identifiant\n",
    "                        * `@type`: Type de localisation (ex: Country)\n",
    "                        * `rdfs:label`: Liste de la ville traduite ['fr']\n",
    "    * `schema:geo`:\n",
    "        * `@id`: Lien vers les informations coordonnées gépgraphiques\n",
    "        * `schema:latitude`: Latitude\n",
    "        * `schema:longitude`: Longitude\n",
    "        * `@type`: Type\n",
    "    * `schema:openingHoursSpecification`: Informations des horraires d'ouverture et fermeture \n",
    "        * `@id`: Lien vers les informations des horraires\n",
    "        * `schema:closes`: Heure de fermeture\n",
    "        * `schema:opens`: Heure d'ouverture\n",
    "        * `schema:validFrom`: Date de début de période d'ouverture\n",
    "        * `schema:validThrough`: Date de fin de période d'ouverture\n",
    "        * `@type`: Type\n",
    "        * `additionalInformation`: Liste d'inforamtions supplémentaires traduit en plusieurs langues\n",
    "        * `hasTranslatedProperty`: Liste des informations de traduction des infos supplémentaires\n",
    "            * `@id`: Lien vers les infos de trad\n",
    "            * `dc:contributor`: Traducteur (api.deepl.com/v2/translate)\n",
    "            * `rdf:language`: Langue de la traduction\n",
    "            * `rdf:predicate`: Table de jointure entre @id et additionalInformation\n",
    "    * `@type`: Type de place\n",
    "* `isOwnedBy`: Informations de l'agent propriétaire\n",
    "    * `@id`: Lien vers l'agent sur DATAtourisme\n",
    "    * `schema:email`: E-mail de l'agent\n",
    "    * `schema:legalName`: Nom de l'agent\n",
    "    * `@type`: Type de l'agent\n",
    "    * `foaf:homepage`: Lien vers le site de l'agent    \n",
    "* `lastUpdate`: Dernière mise à jour du POI\n",
    "* `lastUpdateDatatourisme`: Dernière mise à jour du POI sur DATAtourisme"
   ]
  },
  {
   "cell_type": "markdown",
   "id": "18695478",
   "metadata": {},
   "source": [
    "Ce json peut être transformé en JSON-LD grâce au @"
   ]
  },
  {
   "cell_type": "code",
   "execution_count": 56,
   "id": "a6c2148d",
   "metadata": {},
   "outputs": [],
   "source": [
    "# pprint(jsonObject)"
   ]
  },
  {
   "cell_type": "code",
   "execution_count": null,
   "id": "25b9b7ff",
   "metadata": {},
   "outputs": [],
   "source": []
  }
 ],
 "metadata": {
  "kernelspec": {
   "display_name": "Python 3 (ipykernel)",
   "language": "python",
   "name": "python3"
  },
  "language_info": {
   "codemirror_mode": {
    "name": "ipython",
    "version": 3
   },
   "file_extension": ".py",
   "mimetype": "text/x-python",
   "name": "python",
   "nbconvert_exporter": "python",
   "pygments_lexer": "ipython3",
   "version": "3.8.10"
  }
 },
 "nbformat": 4,
 "nbformat_minor": 5
}
