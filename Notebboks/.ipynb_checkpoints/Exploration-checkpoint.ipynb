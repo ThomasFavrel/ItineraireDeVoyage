{
 "cells": [
  {
   "cell_type": "markdown",
   "id": "9427ee4e",
   "metadata": {},
   "source": [
    "# ITINERAIRE DE VACANCE - EXPLORATION DES DONNÉES"
   ]
  },
  {
   "cell_type": "markdown",
   "id": "9478e93a",
   "metadata": {},
   "source": [
    "## 0. Import des modules"
   ]
  },
  {
   "cell_type": "code",
   "execution_count": 1,
   "id": "5f9c1cfa",
   "metadata": {},
   "outputs": [],
   "source": [
    "import pandas as pd\n",
    "import json\n",
    "from pprint import pprint"
   ]
  },
  {
   "cell_type": "markdown",
   "id": "8fc631a4",
   "metadata": {},
   "source": [
    "## 1. Import des données\n",
    "### 1.1 JSON\n",
    "#### 1.1.1 Index"
   ]
  },
  {
   "cell_type": "code",
   "execution_count": 2,
   "id": "46fd78c6",
   "metadata": {},
   "outputs": [],
   "source": [
    "objects_path = '../Data/JSON/objects/'"
   ]
  },
  {
   "cell_type": "code",
   "execution_count": 3,
   "id": "175e40e8",
   "metadata": {},
   "outputs": [],
   "source": [
    "index_path = '../Data/JSON/index.json'"
   ]
  },
  {
   "cell_type": "code",
   "execution_count": 4,
   "id": "0053c8d7",
   "metadata": {},
   "outputs": [],
   "source": [
    "with open(index_path) as json_data:\n",
    "    index = json.load(json_data)"
   ]
  },
  {
   "cell_type": "markdown",
   "id": "65b47acb",
   "metadata": {},
   "source": [
    "L'index contient plusieurs informations:\n",
    "* `file`: chemin d'accès vers les objets json\n",
    "* `label`: nom du Point Of Interrest\n",
    "* `lastUpdateDatatourisme`: dernière mise à jour du POI sur Datatourisme"
   ]
  },
  {
   "cell_type": "code",
   "execution_count": 5,
   "id": "aa6dba5c",
   "metadata": {},
   "outputs": [
    {
     "name": "stdout",
     "output_type": "stream",
     "text": [
      "[{'file': '0/00/13-000fac17-cff9-3918-a3d6-8edc919c8533.json',\n",
      "  'label': 'Calvi Jet Locations',\n",
      "  'lastUpdateDatatourisme': '2023-02-22T06:42:37.696Z'},\n",
      " {'file': '0/01/13-016f3145-67f8-33c3-9293-109b420a9104.json',\n",
      "  'label': 'Promenades du Golfe',\n",
      "  'lastUpdateDatatourisme': '2023-04-02T05:48:09.233Z'}]\n"
     ]
    }
   ],
   "source": [
    "pprint(index[:2])"
   ]
  },
  {
   "cell_type": "markdown",
   "id": "fe88d4f1",
   "metadata": {},
   "source": [
    "#### 1.1.2 Exploration d'un objet json"
   ]
  },
  {
   "cell_type": "code",
   "execution_count": 6,
   "id": "b8765dfb",
   "metadata": {},
   "outputs": [],
   "source": [
    "jsonObject_path = objects_path + index[0]['file']"
   ]
  },
  {
   "cell_type": "code",
   "execution_count": 7,
   "id": "efa4c0ec",
   "metadata": {},
   "outputs": [],
   "source": [
    "with open(jsonObject_path) as json_data:\n",
    "    jsonObject = json.load(json_data)"
   ]
  },
  {
   "cell_type": "markdown",
   "id": "0baf49b6",
   "metadata": {},
   "source": [
    "Nous avons 15 clés dans notre objet json:\n",
    "* `@id`: Lien vers le POI.\n",
    "* `dc:identifier`: Identifiant unique\n",
    "* `@type`: La classification de POI. Par exemple : festival, musée, chambre d’hôtes...\n",
    "* `rdfs:comment`: Commentaire du POI\n",
    "* `rdfs:label`: Nom du Point Of Interrest\n",
    "* `hasBeenCreatedBy`: L'agent qui a créé ce POI dans le système d'information :\n",
    "    * `@id`: Lien vers l'agent sur DATAtourisme\n",
    "    * `dc:identifier`: Identifiant unique\n",
    "    * `schema:email`: E-mail de l'agent\n",
    "    * `schema:legalName`: Nom officiel de l'agent\n",
    "    * `@type`: Type de l'agent\n",
    "    * `foaf:homepage`: Lien vers le site de l'agent\n",
    "* `hasBeenPublishedBy`: L'agent qui a publié ce POI dans le système d'information:\n",
    "    * `@id`: Lien vers l'agent sur DATAtourisme\n",
    "    * `schema:legalName`: Nom officiel de l'agent\n",
    "    * `@type`: Type de l'agent\n",
    "    * `foaf:homepage`: Lien vers le site de l'agent\n",
    "* `hasContact`: L'agent à contacter pour affaires générales relatives à ce POI:\n",
    "    * `@id`: Lien vers l'agent sur DATAtourisme\n",
    "    * `schema:email`: E-mail de l'agent\n",
    "    * `schema:telephone`: Telephone de l'agent\n",
    "    * `@type`: Type de l'agent\n",
    "    * `foaf:homepage`: Lien vers le site de l'agent\n",
    "* `hasDescription`: Description textuelle courte ou longue du POI pouvant être associée à une audience. Par exemple, un POI peut avoir une description dédiée aux écoles et une autre dédiée au grand public. Si une description n'a aucune audience renseignée, on suppose qu'elle est dédiée à tous les publics:\n",
    "    * `@id`: Lien vers la description\n",
    "    * `@type`: Type(s) de la descripton\n",
    "    * `hasTranslatedProperty`: Informations de traductions:\n",
    "        * `@id`: Lien vers les informations de la traduction de la description\n",
    "        * `dc:contributor`: Traducteur (api.deepl.com/v2/translate)\n",
    "        * `rdf:language`: Langue de la traduction\n",
    "        * `rdf:predicate`: Type de la description\n",
    "    * `shortDescription`: Dictionnaire des descriptions traduit en plusieurs langues:\n",
    "        * `fr`: En fr\n",
    "        * `de`: ...\n",
    "* `hasTheme`: Liste des thèmes:\n",
    "    * `@id`: Identifiant du thème au format kb:[theme en anglais sans espace]\n",
    "    * `@type`: Type du thème\n",
    "    * `rdfs:label`: Thème en différente langue:\n",
    "        * `fr`: fr\n",
    "        * `de`: ...\n",
    "* `hasTranslatedProperty`: liste d'informations de traductions sur le commentaire:\n",
    "    * `@id`: Lien vers les informations de la traduction du commentaire\n",
    "    * `dc:contributor`: Traducteur (api.deepl.com/v2/translate)\n",
    "    * `rdf:language`: Langue de la traduction\n",
    "    * `rdf:predicate`: Table de jointure entre @id et comment\n",
    "* `isLocatedAt`: Informations sur l'emplacement géographique du POI:\n",
    "    * `@id`: Lien vers les informations sur l'emplacement\n",
    "    * `schema:address`: Informations sur l'adresse postale\n",
    "        * `@id`: Lien vers les informations de l'adresse postale\n",
    "        * `schema:addressLocality`: Ville\n",
    "        * `schema:postalCode`: Code postale\n",
    "        * `schema:streetAddress`: Adresse postale (certaines données ne sont pas propres)\n",
    "        * `@type`: Type de l'adresse\n",
    "        * `hasAddressCity`: Informations complémentaires sur l'adresse postale\n",
    "            * `@id`:\n",
    "            * `@type`:\n",
    "            * `rdfs:label`:\n",
    "            * `insee`:\n",
    "            * `isPartOfDepartment`:\n",
    "    * `schema:geo`:\n",
    "    * `schema:openingHoursSpecification`:\n",
    "    * `@type`:\n",
    "* `label`: nom du Point Of Interrest\n",
    "* `label`: nom du Point Of Interrest\n",
    "* `label`: nom du Point Of Interrest"
   ]
  },
  {
   "cell_type": "code",
   "execution_count": 16,
   "id": "d1ef2a09",
   "metadata": {},
   "outputs": [
    {
     "data": {
      "text/plain": [
       "dict_keys(['@id', 'schema:address', 'schema:geo', 'schema:openingHoursSpecification', '@type'])"
      ]
     },
     "execution_count": 16,
     "metadata": {},
     "output_type": "execute_result"
    }
   ],
   "source": [
    "jsonObject['isLocatedAt'][0].keys()"
   ]
  },
  {
   "cell_type": "code",
   "execution_count": 23,
   "id": "b0cff8d5",
   "metadata": {},
   "outputs": [
    {
     "data": {
      "text/plain": [
       "dict_keys(['@id', 'schema:addressLocality', 'schema:postalCode', 'schema:streetAddress', '@type', 'hasAddressCity'])"
      ]
     },
     "execution_count": 23,
     "metadata": {},
     "output_type": "execute_result"
    }
   ],
   "source": [
    "jsonObject['isLocatedAt'][0]['schema:address'][0].keys()"
   ]
  },
  {
   "cell_type": "code",
   "execution_count": 29,
   "id": "874a69bf",
   "metadata": {},
   "outputs": [
    {
     "data": {
      "text/plain": [
       "dict_keys(['@id', '@type', 'rdfs:label', 'insee', 'isPartOfDepartment'])"
      ]
     },
     "execution_count": 29,
     "metadata": {},
     "output_type": "execute_result"
    }
   ],
   "source": [
    "jsonObject['isLocatedAt'][0]['schema:address'][0]['hasAddressCity'].keys()"
   ]
  },
  {
   "cell_type": "code",
   "execution_count": 28,
   "id": "e82f1b64",
   "metadata": {},
   "outputs": [
    {
     "data": {
      "text/plain": [
       "{'@id': 'kb:2B050',\n",
       " '@type': ['City'],\n",
       " 'rdfs:label': {'en': ['Calvi'], 'fr': ['Calvi']},\n",
       " 'insee': '2B050',\n",
       " 'isPartOfDepartment': {'@id': 'kb:France942B',\n",
       "  '@type': ['Department'],\n",
       "  'rdfs:label': {'en': ['Haute-Corse'], 'fr': ['Haute-Corse']},\n",
       "  'insee': '2B',\n",
       "  'isPartOfRegion': {'@id': 'kb:France94',\n",
       "   '@type': ['Region'],\n",
       "   'rdfs:label': {'en': ['Corse'], 'fr': ['Corse']},\n",
       "   'insee': '94',\n",
       "   'isPartOfCountry': {'@id': 'kb:France',\n",
       "    '@type': ['schema:Country'],\n",
       "    'rdfs:label': {'de': ['Frankreich'],\n",
       "     'pt': ['França'],\n",
       "     'en': ['France'],\n",
       "     'it': ['Francia'],\n",
       "     'fr': ['France'],\n",
       "     'nl': ['Frankrijk'],\n",
       "     'es': ['Francia']}}}}}"
      ]
     },
     "execution_count": 28,
     "metadata": {},
     "output_type": "execute_result"
    }
   ],
   "source": [
    "jsonObject['isLocatedAt'][0]['schema:address'][0]['hasAddressCity']"
   ]
  },
  {
   "cell_type": "code",
   "execution_count": 11,
   "id": "ccb96016",
   "metadata": {
    "scrolled": true
   },
   "outputs": [
    {
     "data": {
      "text/plain": [
       "dict_keys(['@id', 'dc:identifier', '@type', 'rdfs:comment', 'rdfs:label', 'hasBeenCreatedBy', 'hasBeenPublishedBy', 'hasContact', 'hasDescription', 'hasTheme', 'hasTranslatedProperty', 'isLocatedAt', 'isOwnedBy', 'lastUpdate', 'lastUpdateDatatourisme'])"
      ]
     },
     "execution_count": 11,
     "metadata": {},
     "output_type": "execute_result"
    }
   ],
   "source": [
    "jsonObject.keys()"
   ]
  },
  {
   "cell_type": "code",
   "execution_count": 8,
   "id": "fc3c1a43",
   "metadata": {},
   "outputs": [
    {
     "data": {
      "text/plain": [
       "'https://data.datatourisme.fr/13/000fac17-cff9-3918-a3d6-8edc919c8533'"
      ]
     },
     "execution_count": 8,
     "metadata": {},
     "output_type": "execute_result"
    }
   ],
   "source": [
    "jsonObject['@id']"
   ]
  },
  {
   "cell_type": "code",
   "execution_count": 9,
   "id": "043810d7",
   "metadata": {},
   "outputs": [
    {
     "data": {
      "text/plain": [
       "'5005925'"
      ]
     },
     "execution_count": 9,
     "metadata": {},
     "output_type": "execute_result"
    }
   ],
   "source": [
    "jsonObject['dc:identifier']"
   ]
  },
  {
   "cell_type": "code",
   "execution_count": 10,
   "id": "f74d3f4c",
   "metadata": {},
   "outputs": [
    {
     "data": {
      "text/plain": [
       "['schema:LocalBusiness',\n",
       " 'ActivityProvider',\n",
       " 'PlaceOfInterest',\n",
       " 'PointOfInterest',\n",
       " 'Store']"
      ]
     },
     "execution_count": 10,
     "metadata": {},
     "output_type": "execute_result"
    }
   ],
   "source": [
    "jsonObject['@type']"
   ]
  },
  {
   "cell_type": "code",
   "execution_count": 11,
   "id": "f40af67d",
   "metadata": {},
   "outputs": [
    {
     "data": {
      "text/plain": [
       "[\"Lors de vos vacances en corse, les amateurs de sports nautiques et de sensations fortes pourront partager un moment inoubliable... à Calvi\\r\\nPromesse d'une rencontre avec... Pierre et Ghjulia\"]"
      ]
     },
     "execution_count": 11,
     "metadata": {},
     "output_type": "execute_result"
    }
   ],
   "source": [
    "jsonObject['rdfs:comment']['fr']"
   ]
  },
  {
   "cell_type": "code",
   "execution_count": 12,
   "id": "56614a48",
   "metadata": {},
   "outputs": [
    {
     "data": {
      "text/plain": [
       "['Calvi Jet Locations']"
      ]
     },
     "execution_count": 12,
     "metadata": {},
     "output_type": "execute_result"
    }
   ],
   "source": [
    "jsonObject['rdfs:label']['fr']"
   ]
  },
  {
   "cell_type": "code",
   "execution_count": 13,
   "id": "27279af5",
   "metadata": {},
   "outputs": [
    {
     "data": {
      "text/plain": [
       "{'@id': 'https://data.datatourisme.fr/13/e4873aa9-a05c-35ed-8395-61d121516766',\n",
       " 'dc:identifier': '1646',\n",
       " 'schema:email': ['info@balagne-corsica.com'],\n",
       " 'schema:legalName': 'Office de Tourisme Intercommunal Calvi - Balagne',\n",
       " '@type': ['schema:Organization', 'foaf:Agent', 'Agent'],\n",
       " 'foaf:homepage': ['https://www.balagne-corsica.com/']}"
      ]
     },
     "execution_count": 13,
     "metadata": {},
     "output_type": "execute_result"
    }
   ],
   "source": [
    "jsonObject['hasBeenCreatedBy']"
   ]
  },
  {
   "cell_type": "code",
   "execution_count": 14,
   "id": "93d14198",
   "metadata": {},
   "outputs": [
    {
     "data": {
      "text/plain": [
       "[{'@id': 'https://data.datatourisme.fr/8a9feb4b-2cbd-3d2c-b507-bd6c6776b23b',\n",
       "  'schema:legalName': 'Apidae Tourisme Scic SA - source : Apidae Tourisme',\n",
       "  '@type': ['schema:Organization', 'foaf:Agent', 'Agent'],\n",
       "  'foaf:homepage': ['https://www.apidae-tourisme.com/']}]"
      ]
     },
     "execution_count": 14,
     "metadata": {},
     "output_type": "execute_result"
    }
   ],
   "source": [
    "jsonObject['hasBeenPublishedBy']"
   ]
  },
  {
   "cell_type": "code",
   "execution_count": 15,
   "id": "d60c365b",
   "metadata": {},
   "outputs": [
    {
     "data": {
      "text/plain": [
       "[{'@id': 'https://data.datatourisme.fr/d7f7f123-e07f-3119-96de-88ac75239c71',\n",
       "  'schema:email': ['calvijet@gmail.com'],\n",
       "  'schema:telephone': ['+33 6 26 17 04 97'],\n",
       "  '@type': ['foaf:Agent', 'Agent'],\n",
       "  'foaf:homepage': ['https://www.calvi-jet.fr/']}]"
      ]
     },
     "execution_count": 15,
     "metadata": {},
     "output_type": "execute_result"
    }
   ],
   "source": [
    "jsonObject['hasContact']"
   ]
  },
  {
   "cell_type": "code",
   "execution_count": 71,
   "id": "f2e3af7b",
   "metadata": {},
   "outputs": [
    {
     "data": {
      "text/plain": [
       "{'@id': 'https://data.datatourisme.fr/1759cd32-f91f-3fda-826a-1c5bc4f7dc1c',\n",
       " '@type': ['Description'],\n",
       " 'hasTranslatedProperty': [{'@id': 'https://data.datatourisme.fr/171d0853-1ebb-37ee-8933-784907bc7565',\n",
       "   'dc:contributor': ['https://api.deepl.com/v2/translate'],\n",
       "   'rdf:language': ['es'],\n",
       "   'rdf:predicate': ['shortDescription']},\n",
       "  {'@id': 'https://data.datatourisme.fr/3fbb553d-6bd2-36bf-8206-b7dd3b22eced',\n",
       "   'dc:contributor': ['https://api.deepl.com/v2/translate'],\n",
       "   'rdf:language': ['nl'],\n",
       "   'rdf:predicate': ['shortDescription']},\n",
       "  {'@id': 'https://data.datatourisme.fr/93ec039d-d9ca-31b5-bd6d-75b6eca73687',\n",
       "   'dc:contributor': ['https://api.deepl.com/v2/translate'],\n",
       "   'rdf:language': ['de'],\n",
       "   'rdf:predicate': ['shortDescription']}],\n",
       " 'shortDescription': {'de': ['Während Ihres Urlaubs auf Korsika können Liebhaber von Wassersport und Nervenkitzel einen unvergesslichen Moment miteinander teilen... in Calvi\\r\\nVersprechen einer Begegnung mit... Pierre und Ghjulia'],\n",
       "  'en': ['During your holiday in Corsica, watersports fans and adrenalin seekers can enjoy an unforgettable experience... in Calvi.\\r\\nA chance to meet... Céline and Youssef'],\n",
       "  'it': ['Durante le vostre vacanze in Corsica, gli amanti degli sport acquatici e delle emozioni forti potranno condividere un momento indimenticabile... a Calvi\\r\\nPromessa di un incontro con... Pierre e Ghjulia'],\n",
       "  'fr': [\"Lors de vos vacances en corse, les amateurs de sports nautiques et de sensations fortes pourront partager un moment inoubliable... à Calvi\\r\\nPromesse d'une rencontre avec... Pierre et Ghjulia\"],\n",
       "  'nl': ['Tijdens uw vakantie op Corsica kunnen liefhebbers van watersport en sterke sensaties een onvergetelijk moment beleven... in Calvi\\r\\nBelofte van een ontmoeting met... Pierre en Ghjulia'],\n",
       "  'es': ['Durante sus vacaciones en Córcega, los amantes de los deportes acuáticos y las sensaciones fuertes podrán compartir un momento inolvidable... en Calvi\\r\\nLa promesa de una reunión con... Pierre y Ghjulia']}}"
      ]
     },
     "execution_count": 71,
     "metadata": {},
     "output_type": "execute_result"
    }
   ],
   "source": [
    "jsonObject['hasDescription'][0]"
   ]
  },
  {
   "cell_type": "code",
   "execution_count": 17,
   "id": "b4070fbd",
   "metadata": {},
   "outputs": [
    {
     "data": {
      "text/plain": [
       "[\"Lors de vos vacances en corse, les amateurs de sports nautiques et de sensations fortes pourront partager un moment inoubliable... à Calvi\\r\\nPromesse d'une rencontre avec... Pierre et Ghjulia\"]"
      ]
     },
     "execution_count": 17,
     "metadata": {},
     "output_type": "execute_result"
    }
   ],
   "source": [
    "jsonObject['hasDescription'][0]['shortDescription']['fr']"
   ]
  },
  {
   "cell_type": "code",
   "execution_count": 18,
   "id": "520308a3",
   "metadata": {},
   "outputs": [
    {
     "data": {
      "text/plain": [
       "['Kayak de mer']"
      ]
     },
     "execution_count": 18,
     "metadata": {},
     "output_type": "execute_result"
    }
   ],
   "source": [
    "jsonObject['hasTheme'][0]['rdfs:label']['fr'] # jsonObject['hasTheme'][[\"plein\"]]['rdfs:label']['fr']"
   ]
  },
  {
   "cell_type": "code",
   "execution_count": 20,
   "id": "87aeed82",
   "metadata": {},
   "outputs": [
    {
     "data": {
      "text/plain": [
       "[{'@id': 'https://data.datatourisme.fr/0b6fbe71-f8df-33d4-a052-5f68d814ee01',\n",
       "  'dc:contributor': ['https://api.deepl.com/v2/translate'],\n",
       "  'rdf:language': ['es'],\n",
       "  'rdf:predicate': [{'@id': 'rdfs:comment'}]},\n",
       " {'@id': 'https://data.datatourisme.fr/79ad0739-d715-36e9-9b50-2b29b29d1fe0',\n",
       "  'dc:contributor': ['https://api.deepl.com/v2/translate'],\n",
       "  'rdf:language': ['de'],\n",
       "  'rdf:predicate': [{'@id': 'rdfs:comment'}]},\n",
       " {'@id': 'https://data.datatourisme.fr/f1e14252-24e1-308e-8b79-ee16b824ac5f',\n",
       "  'dc:contributor': ['https://api.deepl.com/v2/translate'],\n",
       "  'rdf:language': ['nl'],\n",
       "  'rdf:predicate': [{'@id': 'rdfs:comment'}]}]"
      ]
     },
     "execution_count": 20,
     "metadata": {},
     "output_type": "execute_result"
    }
   ],
   "source": [
    "jsonObject['hasTranslatedProperty']"
   ]
  },
  {
   "cell_type": "code",
   "execution_count": 23,
   "id": "71c49d9a",
   "metadata": {},
   "outputs": [
    {
     "data": {
      "text/plain": [
       "dict_keys(['@id', 'schema:address', 'schema:geo', 'schema:openingHoursSpecification', '@type'])"
      ]
     },
     "execution_count": 23,
     "metadata": {},
     "output_type": "execute_result"
    }
   ],
   "source": [
    "jsonObject['isLocatedAt'][0].keys()"
   ]
  },
  {
   "cell_type": "code",
   "execution_count": 27,
   "id": "0d66e56a",
   "metadata": {
    "scrolled": true
   },
   "outputs": [
    {
     "data": {
      "text/plain": [
       "{'@id': 'https://data.datatourisme.fr/7a9ea23e-6919-3616-a306-b03922fc920c',\n",
       " 'schema:addressLocality': 'Calvi',\n",
       " 'schema:postalCode': '20260',\n",
       " 'schema:streetAddress': ['A côté du restaurant \"Le Bout du Monde\"',\n",
       "  'Entrée par le supermarché \"Casino\"',\n",
       "  'Plage de Calvi'],\n",
       " '@type': ['schema:PostalAddress', 'PostalAddress'],\n",
       " 'hasAddressCity': {'@id': 'kb:2B050',\n",
       "  '@type': ['City'],\n",
       "  'rdfs:label': {'en': ['Calvi'], 'fr': ['Calvi']},\n",
       "  'insee': '2B050',\n",
       "  'isPartOfDepartment': {'@id': 'kb:France942B',\n",
       "   '@type': ['Department'],\n",
       "   'rdfs:label': {'en': ['Haute-Corse'], 'fr': ['Haute-Corse']},\n",
       "   'insee': '2B',\n",
       "   'isPartOfRegion': {'@id': 'kb:France94',\n",
       "    '@type': ['Region'],\n",
       "    'rdfs:label': {'en': ['Corse'], 'fr': ['Corse']},\n",
       "    'insee': '94',\n",
       "    'isPartOfCountry': {'@id': 'kb:France',\n",
       "     '@type': ['schema:Country'],\n",
       "     'rdfs:label': {'de': ['Frankreich'],\n",
       "      'pt': ['França'],\n",
       "      'en': ['France'],\n",
       "      'it': ['Francia'],\n",
       "      'fr': ['France'],\n",
       "      'nl': ['Frankrijk'],\n",
       "      'es': ['Francia']}}}}}}"
      ]
     },
     "execution_count": 27,
     "metadata": {},
     "output_type": "execute_result"
    }
   ],
   "source": [
    "jsonObject['isLocatedAt'][0]['schema:address'][0]"
   ]
  },
  {
   "cell_type": "code",
   "execution_count": 29,
   "id": "77df209a",
   "metadata": {},
   "outputs": [
    {
     "data": {
      "text/plain": [
       "{'@id': 'https://data.datatourisme.fr/194c52e6-bbae-33dc-8464-caca97844fbb',\n",
       " 'schema:email': ['info@balagne-corsica.com'],\n",
       " 'schema:legalName': 'Office de Tourisme Intercommunal Calvi - Balagne',\n",
       " '@type': ['schema:Organization', 'foaf:Agent', 'Agent'],\n",
       " 'foaf:homepage': ['https://www.balagne-corsica.com/']}"
      ]
     },
     "execution_count": 29,
     "metadata": {},
     "output_type": "execute_result"
    }
   ],
   "source": [
    "jsonObject['isOwnedBy'][0]"
   ]
  },
  {
   "cell_type": "code",
   "execution_count": 30,
   "id": "316fee89",
   "metadata": {},
   "outputs": [
    {
     "data": {
      "text/plain": [
       "'2022-08-11'"
      ]
     },
     "execution_count": 30,
     "metadata": {},
     "output_type": "execute_result"
    }
   ],
   "source": [
    "jsonObject['lastUpdate']"
   ]
  },
  {
   "cell_type": "code",
   "execution_count": 31,
   "id": "bdbc5dd9",
   "metadata": {},
   "outputs": [
    {
     "data": {
      "text/plain": [
       "'2023-02-22T06:42:37.696Z'"
      ]
     },
     "execution_count": 31,
     "metadata": {},
     "output_type": "execute_result"
    }
   ],
   "source": [
    "jsonObject['lastUpdateDatatourisme']"
   ]
  },
  {
   "cell_type": "code",
   "execution_count": null,
   "id": "3664203f",
   "metadata": {},
   "outputs": [],
   "source": []
  }
 ],
 "metadata": {
  "kernelspec": {
   "display_name": "Python 3 (ipykernel)",
   "language": "python",
   "name": "python3"
  },
  "language_info": {
   "codemirror_mode": {
    "name": "ipython",
    "version": 3
   },
   "file_extension": ".py",
   "mimetype": "text/x-python",
   "name": "python",
   "nbconvert_exporter": "python",
   "pygments_lexer": "ipython3",
   "version": "3.8.10"
  }
 },
 "nbformat": 4,
 "nbformat_minor": 5
}
