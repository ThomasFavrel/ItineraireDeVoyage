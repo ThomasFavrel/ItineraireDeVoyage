{
 "cells": [
  {
   "cell_type": "markdown",
   "id": "9427ee4e",
   "metadata": {},
   "source": [
    "# ITINERAIRE DE VACANCE - EXPLORATION DES DONNÉES"
   ]
  },
  {
   "cell_type": "markdown",
   "id": "9478e93a",
   "metadata": {},
   "source": [
    "## 0. Import des modules"
   ]
  },
  {
   "cell_type": "code",
   "execution_count": 53,
   "id": "5f9c1cfa",
   "metadata": {},
   "outputs": [],
   "source": [
    "import pandas as pd\n",
    "import json\n",
    "from pprint import pprint"
   ]
  },
  {
   "cell_type": "markdown",
   "id": "8fc631a4",
   "metadata": {},
   "source": [
    "## 1. Import des données\n",
    "### 1.1 JSON\n",
    "#### 1.1.1 Index"
   ]
  },
  {
   "cell_type": "code",
   "execution_count": 2,
   "id": "46fd78c6",
   "metadata": {},
   "outputs": [],
   "source": [
    "objects_path = '../Data/JSON/objects/'"
   ]
  },
  {
   "cell_type": "code",
   "execution_count": 3,
   "id": "175e40e8",
   "metadata": {},
   "outputs": [],
   "source": [
    "index_path = '../Data/JSON/index.json'"
   ]
  },
  {
   "cell_type": "code",
   "execution_count": 4,
   "id": "0053c8d7",
   "metadata": {},
   "outputs": [],
   "source": [
    "with open(index_path) as json_data:\n",
    "    index = json.load(json_data)"
   ]
  },
  {
   "cell_type": "markdown",
   "id": "65b47acb",
   "metadata": {},
   "source": [
    "L'index contient plusieurs informations:\n",
    "* `file`: chemin d'accès vers les objets json\n",
    "* `label`: nom du Point Of Interrest\n",
    "* `lastUpdateDatatourisme`: dernière mise à jour du POI sur Datatourisme"
   ]
  },
  {
   "cell_type": "code",
   "execution_count": 5,
   "id": "aa6dba5c",
   "metadata": {},
   "outputs": [
    {
     "name": "stdout",
     "output_type": "stream",
     "text": [
      "[{'file': '0/00/13-000fac17-cff9-3918-a3d6-8edc919c8533.json',\n",
      "  'label': 'Calvi Jet Locations',\n",
      "  'lastUpdateDatatourisme': '2023-02-22T06:42:37.696Z'},\n",
      " {'file': '0/01/13-016f3145-67f8-33c3-9293-109b420a9104.json',\n",
      "  'label': 'Promenades du Golfe',\n",
      "  'lastUpdateDatatourisme': '2023-04-02T05:48:09.233Z'}]\n"
     ]
    }
   ],
   "source": [
    "pprint(index[:2])"
   ]
  },
  {
   "cell_type": "markdown",
   "id": "fe88d4f1",
   "metadata": {},
   "source": [
    "#### 1.1.2 Exploration d'un objet json"
   ]
  },
  {
   "cell_type": "code",
   "execution_count": 6,
   "id": "b8765dfb",
   "metadata": {},
   "outputs": [],
   "source": [
    "jsonObject_path = objects_path + index[0]['file']"
   ]
  },
  {
   "cell_type": "code",
   "execution_count": 7,
   "id": "efa4c0ec",
   "metadata": {},
   "outputs": [],
   "source": [
    "with open(jsonObject_path) as json_data:\n",
    "    jsonObject = json.load(json_data)"
   ]
  },
  {
   "cell_type": "markdown",
   "id": "0baf49b6",
   "metadata": {},
   "source": [
    "Nous avons 15 clés dans notre objet json:\n",
    "* **`@id`: Lien vers le POI.**\n",
    "* `dc:identifier`: Identifiant unique\n",
    "* **`@type`: La classification de POI. Par exemple : festival, musée, chambre d’hôtes...**\n",
    "* `rdfs:comment`: Commentaire du POI\n",
    "* **`rdfs:label`: Nom du Point Of Interrest**\n",
    "* `hasBeenCreatedBy`: L'agent qui a créé ce POI dans le système d'information :\n",
    "    * `@id`: Lien vers l'agent sur DATAtourisme\n",
    "    * `dc:identifier`: Identifiant unique\n",
    "    * `schema:email`: E-mail de l'agent\n",
    "    * `schema:legalName`: Nom officiel de l'agent\n",
    "    * `@type`: Type de l'agent\n",
    "    * `foaf:homepage`: Lien vers le site de l'agent\n",
    "* `hasBeenPublishedBy`: L'agent qui a publié ce POI dans le système d'information:\n",
    "    * `@id`: Lien vers l'agent sur DATAtourisme\n",
    "    * `schema:legalName`: Nom officiel de l'agent\n",
    "    * `@type`: Type de l'agent\n",
    "    * `foaf:homepage`: Lien vers le site de l'agent\n",
    "* **`hasContact`: L'agent à contacter pour affaires générales relatives à ce POI:**\n",
    "    * `@id`: Lien vers l'agent sur DATAtourisme\n",
    "    * `schema:email`: E-mail de l'agent\n",
    "    * **`schema:telephone`: Telephone de l'agent**\n",
    "    * `@type`: Type de l'agent\n",
    "    * **`foaf:homepage`: Lien vers le site de l'agent**\n",
    "* **`hasDescription`: Description textuelle courte ou longue du POI pouvant être associée à une audience. Par exemple, un POI peut avoir une description dédiée aux écoles et une autre dédiée au grand public. Si une description n'a aucune audience renseignée, on suppose qu'elle est dédiée à tous les publics:**\n",
    "    * `@id`: Lien vers la description\n",
    "    * `@type`: Type(s) de la descripton\n",
    "    * `hasTranslatedProperty`: Informations de traductions:\n",
    "        * `@id`: Lien vers les informations de la traduction de la description\n",
    "        * `dc:contributor`: Traducteur (api.deepl.com/v2/translate)\n",
    "        * `rdf:language`: Langue de la traduction\n",
    "        * `rdf:predicate`: Type de la description\n",
    "    * **`shortDescription`: Dictionnaire des descriptions traduit en plusieurs langues:**\n",
    "        * `fr`: En fr\n",
    "        * `de`: ...\n",
    "* **`hasTheme`: Liste des thèmes:**\n",
    "    * `@id`: Identifiant du thème au format kb:[theme en anglais sans espace]\n",
    "    * `@type`: Type du thème\n",
    "    * `rdfs:label`: Thème en différente langue:\n",
    "        * `fr`: fr\n",
    "        * `de`: ...\n",
    "* `hasTranslatedProperty`: liste d'informations de traductions sur le commentaire:\n",
    "    * `@id`: Lien vers les informations de la traduction du commentaire\n",
    "    * `dc:contributor`: Traducteur (api.deepl.com/v2/translate)\n",
    "    * `rdf:language`: Langue de la traduction\n",
    "    * `rdf:predicate`: Table de jointure entre @id et comment\n",
    "* `isLocatedAt`: Informations sur l'emplacement géographique du POI:\n",
    "    * `@id`: Lien vers les informations sur l'emplacement\n",
    "    * `schema:address`: Informations sur l'adresse postale\n",
    "        * `@id`: Lien vers les informations de l'adresse postale\n",
    "        * **`schema:addressLocality`: Ville**\n",
    "        * **`schema:postalCode`: Code postale**\n",
    "        * **`schema:streetAddress`: Adresse postale (certaines données ne sont pas propres)**\n",
    "        * `@type`: Type de l'adresse\n",
    "        * `hasAddressCity`: Informations complémentaires sur l'adresse postale\n",
    "            * `@id`: Identifiant\n",
    "            * `@type`: Type de localisation (ex: City)\n",
    "            * **`rdfs:label`: Liste de la ville traduite ['fr']**\n",
    "            * `insee`: Code Insee\n",
    "            * `isPartOfDepartment`: Informations du département\n",
    "                * `@id`: Identifiant\n",
    "                * `@type`: Type de localisation (ex: Department)\n",
    "                * **`rdfs:label`: Liste de la ville traduite ['fr']**\n",
    "                * `insee`: Code Insee\n",
    "                * `isPartOfRegion`: Informations du département:\n",
    "                    * `@id`: Identifiant\n",
    "                    * `@type`: Type de localisation (ex: Region)\n",
    "                    * **`rdfs:label`: Liste de la ville traduite ['fr']**\n",
    "                    * `insee`: Code Insee\n",
    "                    * `isPartOfCountry`: Informations du Pays:\n",
    "                        * `@id`: Identifiant\n",
    "                        * `@type`: Type de localisation (ex: Country)\n",
    "                        * **`rdfs:label`: Liste de la ville traduite ['fr']**\n",
    "    * `schema:geo`:\n",
    "        * `@id`: Lien vers les informations coordonnées gépgraphiques\n",
    "        * **`schema:latitude`: Latitude**\n",
    "        * **`schema:longitude`: Longitude**\n",
    "        * `@type`: Type\n",
    "    * `schema:openingHoursSpecification`: Informations des horraires d'ouverture et fermeture \n",
    "        * `@id`: Lien vers les informations des horraires\n",
    "        * **`schema:closes`: Heure de fermeture**\n",
    "        * **`schema:opens`: Heure d'ouverture**\n",
    "        * **`schema:validFrom`: Date de début de période d'ouverture**\n",
    "        * **`schema:validThrough`: Date de fin de période d'ouverture**\n",
    "        * `@type`: Type\n",
    "        * `additionalInformation`: Liste d'inforamtions supplémentaires traduit en plusieurs langues\n",
    "        * `hasTranslatedProperty`: Liste des informations de traduction des infos supplémentaires\n",
    "            * `@id`: Lien vers les infos de trad\n",
    "            * `dc:contributor`: Traducteur (api.deepl.com/v2/translate)\n",
    "            * `rdf:language`: Langue de la traduction\n",
    "            * `rdf:predicate`: Table de jointure entre @id et additionalInformation\n",
    "    * `@type`: Type de place\n",
    "* `isOwnedBy`: Informations de l'agent propriétaire\n",
    "    * `@id`: Lien vers l'agent sur DATAtourisme\n",
    "    * `schema:email`: E-mail de l'agent\n",
    "    * `schema:legalName`: Nom de l'agent\n",
    "    * `@type`: Type de l'agent\n",
    "    * `foaf:homepage`: Lien vers le site de l'agent    \n",
    "* **`lastUpdate`: Dernière mise à jour du POI**\n",
    "* `lastUpdateDatatourisme`: Dernière mise à jour du POI sur DATAtourisme"
   ]
  },
  {
   "cell_type": "markdown",
   "id": "18695478",
   "metadata": {},
   "source": [
    "Ce json peut être transformé en JSON-LD grâce au @"
   ]
  },
  {
   "cell_type": "code",
   "execution_count": 8,
   "id": "a6c2148d",
   "metadata": {},
   "outputs": [],
   "source": [
    "# pprint(jsonObject)"
   ]
  },
  {
   "cell_type": "markdown",
   "id": "c1832304",
   "metadata": {},
   "source": [
    "### 1.2 CSV"
   ]
  },
  {
   "cell_type": "code",
   "execution_count": 9,
   "id": "3a83bbab",
   "metadata": {},
   "outputs": [],
   "source": [
    "csv_path = '../Data/datatourisme-reg-cor-20230406.csv'"
   ]
  },
  {
   "cell_type": "code",
   "execution_count": 10,
   "id": "2c0ff65b",
   "metadata": {},
   "outputs": [],
   "source": [
    "df_csv = pd.read_csv(csv_path)"
   ]
  },
  {
   "cell_type": "code",
   "execution_count": 11,
   "id": "d4af2ae3",
   "metadata": {},
   "outputs": [
    {
     "data": {
      "text/html": [
       "<div>\n",
       "<style scoped>\n",
       "    .dataframe tbody tr th:only-of-type {\n",
       "        vertical-align: middle;\n",
       "    }\n",
       "\n",
       "    .dataframe tbody tr th {\n",
       "        vertical-align: top;\n",
       "    }\n",
       "\n",
       "    .dataframe thead th {\n",
       "        text-align: right;\n",
       "    }\n",
       "</style>\n",
       "<table border=\"1\" class=\"dataframe\">\n",
       "  <thead>\n",
       "    <tr style=\"text-align: right;\">\n",
       "      <th></th>\n",
       "      <th>Nom_du_POI</th>\n",
       "      <th>Categories_de_POI</th>\n",
       "      <th>Latitude</th>\n",
       "      <th>Longitude</th>\n",
       "      <th>Adresse_postale</th>\n",
       "      <th>Code_postal_et_commune</th>\n",
       "      <th>Periodes_regroupees</th>\n",
       "      <th>Covid19_mesures_specifiques</th>\n",
       "      <th>Covid19_est_en_activite</th>\n",
       "      <th>Covid19_periodes_d_ouvertures_confirmees</th>\n",
       "      <th>Createur_de_la_donnee</th>\n",
       "      <th>SIT_diffuseur</th>\n",
       "      <th>Date_de_mise_a_jour</th>\n",
       "      <th>Contacts_du_POI</th>\n",
       "      <th>Classements_du_POI</th>\n",
       "      <th>Description</th>\n",
       "      <th>URI_ID_du_POI</th>\n",
       "    </tr>\n",
       "  </thead>\n",
       "  <tbody>\n",
       "    <tr>\n",
       "      <th>0</th>\n",
       "      <td>Cala Rossa Bay Resort</td>\n",
       "      <td>https://www.datatourisme.fr/ontology/core#Plac...</td>\n",
       "      <td>41.628354</td>\n",
       "      <td>9.334957</td>\n",
       "      <td>Route de Cala Rossa</td>\n",
       "      <td>20137#Lecci</td>\n",
       "      <td>NaN</td>\n",
       "      <td>NaN</td>\n",
       "      <td>NaN</td>\n",
       "      <td>NaN</td>\n",
       "      <td>Porto Vecchio Tourisme</td>\n",
       "      <td>Apidae Tourisme Scic SA - source : Apidae Tour...</td>\n",
       "      <td>2022-11-07</td>\n",
       "      <td>#+33 7 87 19 07 56#calabayresort@gmail.com#htt...</td>\n",
       "      <td>NaN</td>\n",
       "      <td>Cala Rossa Bay Resort est la promesse d'une ex...</td>\n",
       "      <td>https://data.datatourisme.fr/13/c45810c5-8c12-...</td>\n",
       "    </tr>\n",
       "    <tr>\n",
       "      <th>1</th>\n",
       "      <td>U Mulinacciu</td>\n",
       "      <td>https://www.datatourisme.fr/ontology/core#Plac...</td>\n",
       "      <td>41.673547</td>\n",
       "      <td>9.299361</td>\n",
       "      <td>Camping Mulinacciu</td>\n",
       "      <td>20137#Lecci</td>\n",
       "      <td>NaN</td>\n",
       "      <td>NaN</td>\n",
       "      <td>NaN</td>\n",
       "      <td>NaN</td>\n",
       "      <td>Porto Vecchio Tourisme</td>\n",
       "      <td>Apidae Tourisme Scic SA - source : Apidae Tour...</td>\n",
       "      <td>2023-02-21</td>\n",
       "      <td>#+33 4 95 71 47 48#infos@mulinacciu.com#https:...</td>\n",
       "      <td>NaN</td>\n",
       "      <td>Camping entre mer et montagne à 7 kms de Porto...</td>\n",
       "      <td>https://data.datatourisme.fr/13/b26b3595-d776-...</td>\n",
       "    </tr>\n",
       "  </tbody>\n",
       "</table>\n",
       "</div>"
      ],
      "text/plain": [
       "              Nom_du_POI                                  Categories_de_POI   \n",
       "0  Cala Rossa Bay Resort  https://www.datatourisme.fr/ontology/core#Plac...  \\\n",
       "1           U Mulinacciu  https://www.datatourisme.fr/ontology/core#Plac...   \n",
       "\n",
       "    Latitude  Longitude      Adresse_postale Code_postal_et_commune   \n",
       "0  41.628354   9.334957  Route de Cala Rossa            20137#Lecci  \\\n",
       "1  41.673547   9.299361   Camping Mulinacciu            20137#Lecci   \n",
       "\n",
       "  Periodes_regroupees  Covid19_mesures_specifiques  Covid19_est_en_activite   \n",
       "0                 NaN                          NaN                      NaN  \\\n",
       "1                 NaN                          NaN                      NaN   \n",
       "\n",
       "   Covid19_periodes_d_ouvertures_confirmees   Createur_de_la_donnee   \n",
       "0                                       NaN  Porto Vecchio Tourisme  \\\n",
       "1                                       NaN  Porto Vecchio Tourisme   \n",
       "\n",
       "                                       SIT_diffuseur Date_de_mise_a_jour   \n",
       "0  Apidae Tourisme Scic SA - source : Apidae Tour...          2022-11-07  \\\n",
       "1  Apidae Tourisme Scic SA - source : Apidae Tour...          2023-02-21   \n",
       "\n",
       "                                     Contacts_du_POI  Classements_du_POI   \n",
       "0  #+33 7 87 19 07 56#calabayresort@gmail.com#htt...                 NaN  \\\n",
       "1  #+33 4 95 71 47 48#infos@mulinacciu.com#https:...                 NaN   \n",
       "\n",
       "                                         Description   \n",
       "0  Cala Rossa Bay Resort est la promesse d'une ex...  \\\n",
       "1  Camping entre mer et montagne à 7 kms de Porto...   \n",
       "\n",
       "                                       URI_ID_du_POI  \n",
       "0  https://data.datatourisme.fr/13/c45810c5-8c12-...  \n",
       "1  https://data.datatourisme.fr/13/b26b3595-d776-...  "
      ]
     },
     "execution_count": 11,
     "metadata": {},
     "output_type": "execute_result"
    }
   ],
   "source": [
    "df_csv.head(2)"
   ]
  },
  {
   "cell_type": "code",
   "execution_count": 12,
   "id": "341193c0",
   "metadata": {},
   "outputs": [
    {
     "data": {
      "text/plain": [
       "'Apidae Tourisme Scic SA - source : Apidae Tourisme'"
      ]
     },
     "execution_count": 12,
     "metadata": {},
     "output_type": "execute_result"
    }
   ],
   "source": [
    "df_csv['SIT_diffuseur'][0]"
   ]
  },
  {
   "cell_type": "markdown",
   "id": "b820ee4a",
   "metadata": {},
   "source": [
    "## 2. Préparation des données"
   ]
  },
  {
   "cell_type": "code",
   "execution_count": 13,
   "id": "42f230c5",
   "metadata": {},
   "outputs": [],
   "source": [
    "listOfPathJson = []\n",
    "for obj in index:\n",
    "    listOfPathJson.append(objects_path + obj['file'])"
   ]
  },
  {
   "cell_type": "code",
   "execution_count": 14,
   "id": "f691f4ef",
   "metadata": {},
   "outputs": [
    {
     "data": {
      "text/plain": [
       "623"
      ]
     },
     "execution_count": 14,
     "metadata": {},
     "output_type": "execute_result"
    }
   ],
   "source": [
    "listOfJson = []\n",
    "for json_path in listOfPathJson:\n",
    "    with open(json_path) as json_data:\n",
    "        jsonObject = json.load(json_data)\n",
    "        listOfJson.append(jsonObject)\n",
    "\n",
    "len(listOfJson)"
   ]
  },
  {
   "cell_type": "markdown",
   "id": "7a0cd3db",
   "metadata": {},
   "source": [
    "### 2.1 Sélection des colonnes et Aplatissement du json"
   ]
  },
  {
   "cell_type": "code",
   "execution_count": 91,
   "id": "ab42ad75",
   "metadata": {},
   "outputs": [],
   "source": [
    "col_select_raw = [\n",
    "    '@id',\n",
    "    '@type',\n",
    "    'hasContact',\n",
    "    'hasDescription',\n",
    "    'hasTheme',\n",
    "    'isLocatedAt',\n",
    "    'lastUpdate'\n",
    "    ]"
   ]
  },
  {
   "cell_type": "code",
   "execution_count": 92,
   "id": "24140fc5",
   "metadata": {},
   "outputs": [
    {
     "data": {
      "text/html": [
       "<div>\n",
       "<style scoped>\n",
       "    .dataframe tbody tr th:only-of-type {\n",
       "        vertical-align: middle;\n",
       "    }\n",
       "\n",
       "    .dataframe tbody tr th {\n",
       "        vertical-align: top;\n",
       "    }\n",
       "\n",
       "    .dataframe thead th {\n",
       "        text-align: right;\n",
       "    }\n",
       "</style>\n",
       "<table border=\"1\" class=\"dataframe\">\n",
       "  <thead>\n",
       "    <tr style=\"text-align: right;\">\n",
       "      <th></th>\n",
       "      <th>@id</th>\n",
       "      <th>@type</th>\n",
       "      <th>hasContact</th>\n",
       "      <th>hasDescription</th>\n",
       "      <th>hasTheme</th>\n",
       "      <th>isLocatedAt</th>\n",
       "      <th>lastUpdate</th>\n",
       "    </tr>\n",
       "  </thead>\n",
       "  <tbody>\n",
       "    <tr>\n",
       "      <th>0</th>\n",
       "      <td>https://data.datatourisme.fr/13/000fac17-cff9-...</td>\n",
       "      <td>[schema:LocalBusiness, ActivityProvider, Place...</td>\n",
       "      <td>[{'@id': 'https://data.datatourisme.fr/d7f7f12...</td>\n",
       "      <td>[{'@id': 'https://data.datatourisme.fr/1759cd3...</td>\n",
       "      <td>[{'@id': 'kb:SeaKayaking', '@type': ['SportsTh...</td>\n",
       "      <td>[{'@id': 'https://data.datatourisme.fr/f4ee540...</td>\n",
       "      <td>2022-08-11</td>\n",
       "    </tr>\n",
       "    <tr>\n",
       "      <th>1</th>\n",
       "      <td>https://data.datatourisme.fr/13/016f3145-67f8-...</td>\n",
       "      <td>[schema:LocalBusiness, PlaceOfInterest, PointO...</td>\n",
       "      <td>[{'@id': 'https://data.datatourisme.fr/ffcc278...</td>\n",
       "      <td>[{'@id': 'https://data.datatourisme.fr/b120860...</td>\n",
       "      <td>[{'@id': 'kb:Fishing', '@type': ['SportsTheme'...</td>\n",
       "      <td>[{'@id': 'https://data.datatourisme.fr/91088f9...</td>\n",
       "      <td>2023-04-01</td>\n",
       "    </tr>\n",
       "  </tbody>\n",
       "</table>\n",
       "</div>"
      ],
      "text/plain": [
       "                                                 @id   \n",
       "0  https://data.datatourisme.fr/13/000fac17-cff9-...  \\\n",
       "1  https://data.datatourisme.fr/13/016f3145-67f8-...   \n",
       "\n",
       "                                               @type   \n",
       "0  [schema:LocalBusiness, ActivityProvider, Place...  \\\n",
       "1  [schema:LocalBusiness, PlaceOfInterest, PointO...   \n",
       "\n",
       "                                          hasContact   \n",
       "0  [{'@id': 'https://data.datatourisme.fr/d7f7f12...  \\\n",
       "1  [{'@id': 'https://data.datatourisme.fr/ffcc278...   \n",
       "\n",
       "                                      hasDescription   \n",
       "0  [{'@id': 'https://data.datatourisme.fr/1759cd3...  \\\n",
       "1  [{'@id': 'https://data.datatourisme.fr/b120860...   \n",
       "\n",
       "                                            hasTheme   \n",
       "0  [{'@id': 'kb:SeaKayaking', '@type': ['SportsTh...  \\\n",
       "1  [{'@id': 'kb:Fishing', '@type': ['SportsTheme'...   \n",
       "\n",
       "                                         isLocatedAt  lastUpdate  \n",
       "0  [{'@id': 'https://data.datatourisme.fr/f4ee540...  2022-08-11  \n",
       "1  [{'@id': 'https://data.datatourisme.fr/91088f9...  2023-04-01  "
      ]
     },
     "execution_count": 92,
     "metadata": {},
     "output_type": "execute_result"
    }
   ],
   "source": [
    "df_raw = pd.json_normalize(listOfJson, errors='ignore')[col_select_raw]\n",
    "df_raw.head(2)"
   ]
  },
  {
   "cell_type": "code",
   "execution_count": 93,
   "id": "58624aea",
   "metadata": {},
   "outputs": [
    {
     "name": "stdout",
     "output_type": "stream",
     "text": [
      "<class 'pandas.core.frame.DataFrame'>\n",
      "RangeIndex: 623 entries, 0 to 622\n",
      "Data columns (total 7 columns):\n",
      " #   Column          Non-Null Count  Dtype \n",
      "---  ------          --------------  ----- \n",
      " 0   @id             623 non-null    object\n",
      " 1   @type           623 non-null    object\n",
      " 2   hasContact      614 non-null    object\n",
      " 3   hasDescription  604 non-null    object\n",
      " 4   hasTheme        277 non-null    object\n",
      " 5   isLocatedAt     623 non-null    object\n",
      " 6   lastUpdate      623 non-null    object\n",
      "dtypes: object(7)\n",
      "memory usage: 34.2+ KB\n"
     ]
    }
   ],
   "source": [
    "df_raw.info()"
   ]
  },
  {
   "cell_type": "markdown",
   "id": "8041cc72",
   "metadata": {},
   "source": [
    "### 2.2 Preprocessing des données\n",
    "#### 2.2.1 Type"
   ]
  },
  {
   "cell_type": "markdown",
   "id": "c6004189",
   "metadata": {},
   "source": [
    "Plusieurs types sont associés à chaque POI.\n",
    "On va voir quels types sont important à garder."
   ]
  },
  {
   "cell_type": "code",
   "execution_count": 95,
   "id": "1b9f96d7",
   "metadata": {},
   "outputs": [
    {
     "data": {
      "text/plain": [
       "['schema:LocalBusiness',\n",
       " 'ActivityProvider',\n",
       " 'PlaceOfInterest',\n",
       " 'PointOfInterest',\n",
       " 'Store']"
      ]
     },
     "execution_count": 95,
     "metadata": {},
     "output_type": "execute_result"
    }
   ],
   "source": [
    "df_raw['@type'][0]"
   ]
  },
  {
   "cell_type": "code",
   "execution_count": 113,
   "id": "5d2db440",
   "metadata": {},
   "outputs": [],
   "source": [
    "occurrences = {}\n",
    "\n",
    "for liste in df_raw['@type']:\n",
    "    for el in liste:\n",
    "        if str(el) in occurrences:\n",
    "            occurrences[str(el)] += 1\n",
    "        else:\n",
    "            occurrences[str(el)] = 1"
   ]
  },
  {
   "cell_type": "markdown",
   "id": "a3bd89a1",
   "metadata": {},
   "source": [
    "On remarque :\n",
    "* Les types les plus courants sont `PointOfInterest` et `PlaceOfInterest`\n",
    "* Des types contiennent `schema`"
   ]
  },
  {
   "cell_type": "code",
   "execution_count": 121,
   "id": "0ea59e18",
   "metadata": {
    "scrolled": false
   },
   "outputs": [
    {
     "data": {
      "text/html": [
       "<div>\n",
       "<style scoped>\n",
       "    .dataframe tbody tr th:only-of-type {\n",
       "        vertical-align: middle;\n",
       "    }\n",
       "\n",
       "    .dataframe tbody tr th {\n",
       "        vertical-align: top;\n",
       "    }\n",
       "\n",
       "    .dataframe thead th {\n",
       "        text-align: right;\n",
       "    }\n",
       "</style>\n",
       "<table border=\"1\" class=\"dataframe\">\n",
       "  <thead>\n",
       "    <tr style=\"text-align: right;\">\n",
       "      <th></th>\n",
       "      <th>Nom</th>\n",
       "      <th>Count</th>\n",
       "    </tr>\n",
       "  </thead>\n",
       "  <tbody>\n",
       "    <tr>\n",
       "      <th>3</th>\n",
       "      <td>PointOfInterest</td>\n",
       "      <td>623</td>\n",
       "    </tr>\n",
       "    <tr>\n",
       "      <th>2</th>\n",
       "      <td>PlaceOfInterest</td>\n",
       "      <td>612</td>\n",
       "    </tr>\n",
       "    <tr>\n",
       "      <th>0</th>\n",
       "      <td>schema:LocalBusiness</td>\n",
       "      <td>193</td>\n",
       "    </tr>\n",
       "    <tr>\n",
       "      <th>26</th>\n",
       "      <td>FoodEstablishment</td>\n",
       "      <td>185</td>\n",
       "    </tr>\n",
       "    <tr>\n",
       "      <th>25</th>\n",
       "      <td>schema:FoodEstablishment</td>\n",
       "      <td>185</td>\n",
       "    </tr>\n",
       "    <tr>\n",
       "      <th>12</th>\n",
       "      <td>schema:Accommodation</td>\n",
       "      <td>161</td>\n",
       "    </tr>\n",
       "    <tr>\n",
       "      <th>13</th>\n",
       "      <td>schema:LodgingBusiness</td>\n",
       "      <td>161</td>\n",
       "    </tr>\n",
       "    <tr>\n",
       "      <th>14</th>\n",
       "      <td>Accommodation</td>\n",
       "      <td>161</td>\n",
       "    </tr>\n",
       "    <tr>\n",
       "      <th>4</th>\n",
       "      <td>Store</td>\n",
       "      <td>139</td>\n",
       "    </tr>\n",
       "    <tr>\n",
       "      <th>6</th>\n",
       "      <td>SportsAndLeisurePlace</td>\n",
       "      <td>121</td>\n",
       "    </tr>\n",
       "    <tr>\n",
       "      <th>1</th>\n",
       "      <td>ActivityProvider</td>\n",
       "      <td>95</td>\n",
       "    </tr>\n",
       "    <tr>\n",
       "      <th>30</th>\n",
       "      <td>schema:Hotel</td>\n",
       "      <td>77</td>\n",
       "    </tr>\n",
       "    <tr>\n",
       "      <th>31</th>\n",
       "      <td>Hotel</td>\n",
       "      <td>77</td>\n",
       "    </tr>\n",
       "    <tr>\n",
       "      <th>32</th>\n",
       "      <td>HotelTrade</td>\n",
       "      <td>77</td>\n",
       "    </tr>\n",
       "    <tr>\n",
       "      <th>11</th>\n",
       "      <td>CulturalSite</td>\n",
       "      <td>57</td>\n",
       "    </tr>\n",
       "  </tbody>\n",
       "</table>\n",
       "</div>"
      ],
      "text/plain": [
       "                         Nom  Count\n",
       "3            PointOfInterest    623\n",
       "2            PlaceOfInterest    612\n",
       "0       schema:LocalBusiness    193\n",
       "26         FoodEstablishment    185\n",
       "25  schema:FoodEstablishment    185\n",
       "12      schema:Accommodation    161\n",
       "13    schema:LodgingBusiness    161\n",
       "14             Accommodation    161\n",
       "4                      Store    139\n",
       "6      SportsAndLeisurePlace    121\n",
       "1           ActivityProvider     95\n",
       "30              schema:Hotel     77\n",
       "31                     Hotel     77\n",
       "32                HotelTrade     77\n",
       "11              CulturalSite     57"
      ]
     },
     "execution_count": 121,
     "metadata": {},
     "output_type": "execute_result"
    }
   ],
   "source": [
    "count_type = pd.DataFrame(list(occurrences.items()), columns=['Nom', 'Count'])\n",
    "count_type.sort_values(by=\"Count\", ascending=False).head(15)"
   ]
  },
  {
   "cell_type": "code",
   "execution_count": null,
   "id": "fe58f965",
   "metadata": {},
   "outputs": [],
   "source": []
  }
 ],
 "metadata": {
  "kernelspec": {
   "display_name": "Python 3 (ipykernel)",
   "language": "python",
   "name": "python3"
  },
  "language_info": {
   "codemirror_mode": {
    "name": "ipython",
    "version": 3
   },
   "file_extension": ".py",
   "mimetype": "text/x-python",
   "name": "python",
   "nbconvert_exporter": "python",
   "pygments_lexer": "ipython3",
   "version": "3.8.10"
  }
 },
 "nbformat": 4,
 "nbformat_minor": 5
}
